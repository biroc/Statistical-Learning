{
 "cells": [
  {
   "cell_type": "code",
   "execution_count": 1,
   "metadata": {
    "collapsed": false
   },
   "outputs": [],
   "source": [
    "import pandas as pd\n",
    "import numpy as np\n",
    "import matplotlib.pyplot as plt\n",
    "%matplotlib inline"
   ]
  },
  {
   "cell_type": "markdown",
   "metadata": {},
   "source": [
    "# <center> EC3389 - Week 5 - Machine Learning Basics with Scikit-learn </center>"
   ]
  },
  {
   "cell_type": "markdown",
   "metadata": {},
   "source": [
    "<b>Announcements</b>"
   ]
  },
  {
   "cell_type": "markdown",
   "metadata": {},
   "source": [
    "+ HW2Q1, HW2Q4\n",
    "\n",
    "+ Extra OH for programming beginners: Tomorrow 1h30PM (?)\n",
    "\n",
    "+ Work in groups today (?)"
   ]
  },
  {
   "cell_type": "markdown",
   "metadata": {},
   "source": [
    "<b>Today's libraries</b>"
   ]
  },
  {
   "cell_type": "markdown",
   "metadata": {},
   "source": [
    "Today we will be mainly looking at *Scikit-Learn*, the most popular Python machine learning library."
   ]
  },
  {
   "cell_type": "code",
   "execution_count": 64,
   "metadata": {
    "collapsed": true
   },
   "outputs": [],
   "source": [
    "import sklearn.linear_model as skl\n",
    "import sklearn.cross_validation as skv"
   ]
  },
  {
   "cell_type": "markdown",
   "metadata": {},
   "source": [
    "We'll also use the *seaborn* library for data visualization. "
   ]
  },
  {
   "cell_type": "code",
   "execution_count": 11,
   "metadata": {
    "collapsed": false
   },
   "outputs": [],
   "source": [
    "import seaborn as sns\n",
    "sns.set_style(\"white\") # Makes *all* plots cleaner"
   ]
  },
  {
   "cell_type": "markdown",
   "metadata": {},
   "source": [
    "If any of the the previous cells raised an error, uncomment and run the next two lines."
   ]
  },
  {
   "cell_type": "code",
   "execution_count": null,
   "metadata": {
    "collapsed": false
   },
   "outputs": [],
   "source": [
    "#!pip install seaborn  \n",
    "#!pip install scikit-learn"
   ]
  },
  {
   "cell_type": "markdown",
   "metadata": {},
   "source": [
    "[Don't worry about this cell, I'm just arranging the data set we will use today]"
   ]
  },
  {
   "cell_type": "code",
   "execution_count": 12,
   "metadata": {
    "collapsed": true
   },
   "outputs": [],
   "source": [
    "from sklearn.datasets import load_boston\n",
    "boston = load_boston()\n",
    "boston_data = pd.DataFrame(data = np.hstack([boston.target[:,np.newaxis], boston.data]), \n",
    "                    columns = [\"price\"] + list(boston[\"feature_names\"]))\n",
    "X = boston_data.ix[:, \"DIS\"].values[:,np.newaxis]\n",
    "y = boston_data.ix[:, \"NOX\"].values[:,np.newaxis]"
   ]
  },
  {
   "cell_type": "markdown",
   "metadata": {},
   "source": [
    "Note: the Boston data set makes occasional appearances in the textbook"
   ]
  },
  {
   "cell_type": "code",
   "execution_count": 14,
   "metadata": {
    "collapsed": false
   },
   "outputs": [],
   "source": [
    "#print(boston.DESCR) "
   ]
  },
  {
   "cell_type": "markdown",
   "metadata": {},
   "source": [
    "# Machine learning in one minute"
   ]
  },
  {
   "cell_type": "markdown",
   "metadata": {},
   "source": [
    "<b>Step 1:</b> *Instantiate* an *object* of the *class* sklearn.linear_model.LinearRegression (Explanation later in the semester)"
   ]
  },
  {
   "cell_type": "code",
   "execution_count": 17,
   "metadata": {
    "collapsed": false
   },
   "outputs": [],
   "source": [
    "lr = skl.LinearRegression()"
   ]
  },
  {
   "cell_type": "markdown",
   "metadata": {},
   "source": [
    "<b>Step 2:</b> Fit the model "
   ]
  },
  {
   "cell_type": "code",
   "execution_count": 18,
   "metadata": {
    "collapsed": false
   },
   "outputs": [
    {
     "data": {
      "text/plain": [
       "LinearRegression(copy_X=True, fit_intercept=True, n_jobs=1, normalize=False)"
      ]
     },
     "execution_count": 18,
     "metadata": {},
     "output_type": "execute_result"
    }
   ],
   "source": [
    "lr.fit(X = X, y = y)"
   ]
  },
  {
   "cell_type": "markdown",
   "metadata": {},
   "source": [
    "<b>Step 3:</b> Predict"
   ]
  },
  {
   "cell_type": "code",
   "execution_count": 19,
   "metadata": {
    "collapsed": false
   },
   "outputs": [
    {
     "name": "stdout",
     "output_type": "stream",
     "text": [
      "Predicted y:  [[ 0.50368814]]\n"
     ]
    }
   ],
   "source": [
    "yhat = lr.predict(X = 5) # Predict given any point\n",
    "print(\"Predicted y: \", yhat)"
   ]
  },
  {
   "cell_type": "markdown",
   "metadata": {},
   "source": [
    "<b>Step 4</b>: Done! Go update your résumé."
   ]
  },
  {
   "cell_type": "markdown",
   "metadata": {},
   "source": [
    "To use different *supervised learning* algorithms, just change \"LinearRegression\"!"
   ]
  },
  {
   "cell_type": "markdown",
   "metadata": {},
   "source": [
    "# Evaluating a model's predictive performance"
   ]
  },
  {
   "cell_type": "markdown",
   "metadata": {},
   "source": [
    "$$R^2 = 1 - \\frac{\\text{Residual Sum of Squares}}{\\text{Total sum of squares}}  =\n",
    "1  - \\frac{\\sum_{i}(y_{i} - \\hat{y})^2}{\\sum_{i}(y_{i} - \\bar{y})^2}$$"
   ]
  },
  {
   "cell_type": "markdown",
   "metadata": {},
   "source": [
    "<b>Exercise</b>"
   ]
  },
  {
   "cell_type": "markdown",
   "metadata": {},
   "source": [
    "Write a function that computes the R-squared according to the formula above"
   ]
  },
  {
   "cell_type": "code",
   "execution_count": 30,
   "metadata": {
    "collapsed": false
   },
   "outputs": [],
   "source": [
    "def get_rsquared(y, yhat):\n",
    "    ybar = np.mean(y)\n",
    "    ssr = np.sum((y-yhat)**2)\n",
    "    sst = np.sum((y - ybar)**2)\n",
    "    rsq = 1 - (ssr/sst)\n",
    "    return rsq\n"
   ]
  },
  {
   "cell_type": "markdown",
   "metadata": {},
   "source": [
    "Compute the $R^2$ of the function"
   ]
  },
  {
   "cell_type": "code",
   "execution_count": 31,
   "metadata": {
    "collapsed": false,
    "scrolled": true
   },
   "outputs": [
    {
     "name": "stdout",
     "output_type": "stream",
     "text": [
      "R^2:  0.591714967093\n"
     ]
    }
   ],
   "source": [
    "yhat = lr.predict(X)\n",
    "rsq = get_rsquared(y, yhat)\n",
    "print(\"R^2: \", rsq)"
   ]
  },
  {
   "cell_type": "code",
   "execution_count": 34,
   "metadata": {
    "collapsed": false
   },
   "outputs": [
    {
     "data": {
      "text/plain": [
       "0.59171496709342009"
      ]
     },
     "execution_count": 34,
     "metadata": {},
     "output_type": "execute_result"
    }
   ],
   "source": [
    "#or. . . \n",
    "lr.score(X,y)"
   ]
  },
  {
   "cell_type": "markdown",
   "metadata": {},
   "source": [
    "<b>Discussion</b> Is this a \"good\" $R^2$? Are we done?"
   ]
  },
  {
   "cell_type": "markdown",
   "metadata": {},
   "source": [
    "<b>Using</b> <font face=\"Courier\">score</font></b>"
   ]
  },
  {
   "cell_type": "markdown",
   "metadata": {},
   "source": [
    "## Splitting the data"
   ]
  },
  {
   "cell_type": "markdown",
   "metadata": {},
   "source": [
    "<b>Exercise</b>\n",
    "\n",
    "+ Split your data set by allocating:\n",
    "\n",
    "    * 70% of the DIS values to a variable named <font face=\"Courier\">X_train</font>, and their corresponding NOX values to a variable names  <font face=\"Courier\">y_train</font>\n",
    "    * The remaining 30% of the DIS values to a variable named <font face=\"Courier\">X_test</font>, and their corresponding NOX values to a variable names  <font face=\"Courier\">y_test</font>"
   ]
  },
  {
   "cell_type": "markdown",
   "metadata": {},
   "source": [
    "* <font color = \"navy\"><b>[Intermediate]</b></font> Make that a *random* 70%/30% split\n",
    "\n",
    "\n",
    "* <font color = \"navy\"><b>[Advanced]</b></font> Write a *function* that, given two arrays <font face=\"Courier\">X</font> and <font face=\"Courier\">y</font>, randomly splits them into <font face=\"Courier\">X_train</font>, <font face=\"Courier\">X_test</font>, <font face=\"Courier\">y_train</font>, <font face=\"Courier\">y_test</font>"
   ]
  },
  {
   "cell_type": "code",
   "execution_count": 47,
   "metadata": {
    "collapsed": false,
    "scrolled": true
   },
   "outputs": [],
   "source": [
    "lenx = len(X)\n",
    "leny = len(y)\n",
    "xtrain = X[0:int(lenx*.7)]\n",
    "ytrain = y[0:int(leny*.7)]\n",
    "xtest = X[int(lenx*.7):]\n",
    "ytest = y[int(leny*.7):]"
   ]
  },
  {
   "cell_type": "code",
   "execution_count": 50,
   "metadata": {
    "collapsed": false
   },
   "outputs": [
    {
     "data": {
      "text/plain": [
       "354"
      ]
     },
     "execution_count": 50,
     "metadata": {},
     "output_type": "execute_result"
    }
   ],
   "source": [
    "len(ytrain)"
   ]
  },
  {
   "cell_type": "markdown",
   "metadata": {},
   "source": [
    "Once you have done that, you can test how well your model is doing:"
   ]
  },
  {
   "cell_type": "markdown",
   "metadata": {},
   "source": [
    "<b> Exercise</b> \n",
    "\n",
    "Compute the $R^2$ of the train and test data"
   ]
  },
  {
   "cell_type": "code",
   "execution_count": 58,
   "metadata": {
    "collapsed": false
   },
   "outputs": [
    {
     "name": "stdout",
     "output_type": "stream",
     "text": [
      "Rsq_train:  0.603155274719  Rsq_test:  0.554417705596\n"
     ]
    }
   ],
   "source": [
    "lr = skl.LinearRegression()\n",
    "lr.fit(xtrain, ytrain)  # Fit using *training* data here\n",
    "\n",
    "rsq_test = lr.score(xtest, ytest)\n",
    "rsq_train = lr.score(xtrain, ytrain)\n",
    "\n",
    "\n",
    "print(\"Rsq_train: \", rsq_train, \" Rsq_test: \", rsq_test)"
   ]
  },
  {
   "cell_type": "markdown",
   "metadata": {},
   "source": [
    "<b>Discussion</b> \n",
    "\n",
    "+ What do the relative sizes of <font face=\"Courier\">rsq_train</font> and <font face=\"Courier\">rsq_test</font> tell us about model fit?\n",
    " \n",
    "+ What would have happened had we chosen a different 70% of the data to be our test set? What does that tell you about $R^2$?"
   ]
  },
  {
   "cell_type": "markdown",
   "metadata": {},
   "source": [
    "<b>Using</b> <font face =\"Courier\">sklearn.cross_validation.train_test_split</font>"
   ]
  },
  {
   "cell_type": "code",
   "execution_count": 60,
   "metadata": {
    "collapsed": false
   },
   "outputs": [],
   "source": [
    "xtrain, xtest, ytrain, ytest = skv.train_test_split(X,y)"
   ]
  },
  {
   "cell_type": "markdown",
   "metadata": {},
   "source": [
    "# Can we improve our performance?"
   ]
  },
  {
   "cell_type": "markdown",
   "metadata": {
    "collapsed": true
   },
   "source": [
    "For models with few regressors, it's good practice to try plotting your *TRAINING* data."
   ]
  },
  {
   "cell_type": "code",
   "execution_count": 55,
   "metadata": {
    "collapsed": false
   },
   "outputs": [
    {
     "data": {
      "text/plain": [
       "<matplotlib.collections.PathCollection at 0x11b660908>"
      ]
     },
     "execution_count": 55,
     "metadata": {},
     "output_type": "execute_result"
    },
    {
     "data": {
      "image/png": "[encoded data removed]",
      "text/plain": [
       "<matplotlib.figure.Figure at 0x11b4e3c50>"
      ]
     },
     "metadata": {},
     "output_type": "display_data"
    }
   ],
   "source": [
    "plt.scatter(xtrain, ytrain)"
   ]
  },
  {
   "cell_type": "markdown",
   "metadata": {
    "collapsed": true
   },
   "source": [
    "<b>Discussion</b> What are some issues with our specification? (Extra: are Gauss-Markov assumptions satisfied?)"
   ]
  },
  {
   "cell_type": "markdown",
   "metadata": {},
   "source": [
    "## 1) Look for variable transformations"
   ]
  },
  {
   "cell_type": "markdown",
   "metadata": {},
   "source": [
    "If we can make our data linear (or, in general, more compliant to the assumptions of our model), the fit may improve."
   ]
  },
  {
   "cell_type": "code",
   "execution_count": 56,
   "metadata": {
    "collapsed": false
   },
   "outputs": [
    {
     "data": {
      "text/plain": [
       "<matplotlib.text.Text at 0x11be19cc0>"
      ]
     },
     "execution_count": 56,
     "metadata": {},
     "output_type": "execute_result"
    },
    {
     "data": {
      "image/png": "[encoded data removed]",
      "text/plain": [
       "<matplotlib.figure.Figure at 0x11b6196a0>"
      ]
     },
     "metadata": {},
     "output_type": "display_data"
    }
   ],
   "source": [
    "fig, ax = plt.subplots(2, 2, figsize = (10,10),  sharey = True)\n",
    "\n",
    "ax[0,0].scatter(x = xtrain, y = ytrain)\n",
    "ax[0,0].set_title(\"$X$\", fontsize = 20)\n",
    "\n",
    "ax[0,1].scatter(x = xtrain**2, y = ytrain)\n",
    "ax[0,1].set_title(\"$X^2$\", fontsize = 20)\n",
    "\n",
    "ax[1,0].scatter(x = 1/xtrain, y = ytrain)\n",
    "ax[1,0].set_title(\"$1/X$\", fontsize = 20)\n",
    "\n",
    "ax[1,1].scatter(x = np.log(xtrain), y = ytrain)\n",
    "ax[1,1].set_title(\"$\\log{X}$\", fontsize = 20)"
   ]
  },
  {
   "cell_type": "markdown",
   "metadata": {},
   "source": [
    "<b>Exercise</b>\n",
    "\n",
    "+ Create new variables <font face=\"Courier\">X_test_new = g(X_test)</font> and <font face=\"Courier\">X_train_new = g(X_train)</font>, where <font face=\"Courier\">g</font> is any function of your choice.\n",
    "\n",
    "\n",
    "+ Find the training and test R-squared for this new specification. Is it larger than before transforming it?"
   ]
  },
  {
   "cell_type": "markdown",
   "metadata": {},
   "source": [
    "## 2) Use a more flexible model"
   ]
  },
  {
   "cell_type": "markdown",
   "metadata": {},
   "source": [
    "Using <font face=\"Courier\">K-Nearest Neighbors</font>, we get $R^2\\approx 0.74$ on the *test* set! "
   ]
  },
  {
   "cell_type": "code",
   "execution_count": 68,
   "metadata": {
    "collapsed": false
   },
   "outputs": [
    {
     "data": {
      "text/plain": [
       "<matplotlib.text.Text at 0x11c40c0b8>"
      ]
     },
     "execution_count": 68,
     "metadata": {},
     "output_type": "execute_result"
    },
    {
     "data": {
      "image/png": "[encoded data removed]",
      "text/plain": [
       "<matplotlib.figure.Figure at 0x11c16d278>"
      ]
     },
     "metadata": {},
     "output_type": "display_data"
    }
   ],
   "source": [
    "import sklearn.neighbors as skn\n",
    "knn = skn.KNeighborsRegressor(n_neighbors= 50)\n",
    "knn.fit(xtrain, ytrain)\n",
    "rsq = knn.score(xtest, ytest)\n",
    "\n",
    "X_grid = np.linspace(.1, 2.5, 1000).reshape(-1,1)\n",
    "y_grid = knn.predict(X_grid)\n",
    "\n",
    "fig, ax = plt.subplots(1, figsize = (10,8))\n",
    "ax.plot(X_grid, y_grid)\n",
    "ax.scatter(xtest, ytest)\n",
    "ax.text(1.8, .8, \"Test $R^2:$\" + str(np.round(rsq, 3)), fontsize = 20)\n",
    "ax.set_title(\"Test set vs. Fitted Model\", fontsize = 20)"
   ]
  },
  {
   "cell_type": "markdown",
   "metadata": {},
   "source": [
    "# To Think"
   ]
  },
  {
   "cell_type": "markdown",
   "metadata": {},
   "source": [
    "<font size = 3>\n",
    "+ Theoretically, given <i>one data set</i>, can we keep improving forever, coming up with increasingly better algorithms? \n",
    "\n",
    "+ Could there be an algorithm that is beats all others, given <i>any data set</i>?"
   ]
  },
  {
   "cell_type": "code",
   "execution_count": null,
   "metadata": {
    "collapsed": true
   },
   "outputs": [],
   "source": []
  }
 ],
 "metadata": {
  "kernelspec": {
   "display_name": "Python 3",
   "language": "python",
   "name": "python3"
  },
  "language_info": {
   "codemirror_mode": {
    "name": "ipython",
    "version": 3
   },
   "file_extension": ".py",
   "mimetype": "text/x-python",
   "name": "python",
   "nbconvert_exporter": "python",
   "pygments_lexer": "ipython3",
   "version": "3.5.1"
  }
 },
 "nbformat": 4,
 "nbformat_minor": 0
}
