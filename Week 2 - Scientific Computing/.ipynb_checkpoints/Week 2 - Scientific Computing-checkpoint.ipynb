{
 "cells": [
  {
   "cell_type": "markdown",
   "metadata": {
    "slideshow": {
     "slide_type": "slide"
    }
   },
   "source": [
    "# <center> Week 2 - Scientific Computing in Python </center>"
   ]
  },
  {
   "cell_type": "markdown",
   "metadata": {},
   "source": [
    "<img src = \"pythonxkcd.png\">"
   ]
  },
  {
   "cell_type": "markdown",
   "metadata": {},
   "source": [
    "# Python modules"
   ]
  },
  {
   "cell_type": "markdown",
   "metadata": {},
   "source": [
    "<b> Installing</b> With pip: https://en.wikipedia.org/wiki/Pip_(package_manager)\n",
    "\n",
    "$ pip install <i>package name</i> \n",
    "\n",
    "\n",
    "<b> Importing"
   ]
  },
  {
   "cell_type": "markdown",
   "metadata": {},
   "source": [
    "This goes in the beginning of your file or notebook."
   ]
  },
  {
   "cell_type": "code",
   "execution_count": 2,
   "metadata": {
    "collapsed": false
   },
   "outputs": [],
   "source": [
    "import numpy as np\n",
    "import matplotlib.pyplot as plt\n",
    "%matplotlib inline    \n",
    "# This last line forces the plots to be displayed within the notebook, as opposed to opening a new window. "
   ]
  },
  {
   "cell_type": "code",
   "execution_count": 10,
   "metadata": {
    "collapsed": false
   },
   "outputs": [
    {
     "data": {
      "text/plain": [
       "32"
      ]
     },
     "execution_count": 10,
     "metadata": {},
     "output_type": "execute_result"
    }
   ],
   "source": [
    "a = [2,3,4]\n",
    "a*3\n",
    "\n",
    "b = np.array([[6,8],\n",
    "            [10,12]])\n",
    "b*3\n",
    "\n",
    "#b.[tab] gets you the total list of options "
   ]
  },
  {
   "cell_type": "markdown",
   "metadata": {},
   "source": [
    "If you can't do this now, that's ok."
   ]
  },
  {
   "cell_type": "code",
   "execution_count": null,
   "metadata": {
    "collapsed": true
   },
   "outputs": [],
   "source": []
  },
  {
   "cell_type": "code",
   "execution_count": 4,
   "metadata": {
    "collapsed": false
   },
   "outputs": [
    {
     "ename": "ImportError",
     "evalue": "No module named seaborn",
     "output_type": "error",
     "traceback": [
      "\u001b[0;31m---------------------------------------------------------------------------\u001b[0m",
      "\u001b[0;31mImportError\u001b[0m                               Traceback (most recent call last)",
      "\u001b[0;32m<ipython-input-4-64a2509f3c65>\u001b[0m in \u001b[0;36m<module>\u001b[0;34m()\u001b[0m\n\u001b[0;32m----> 1\u001b[0;31m \u001b[0;32mimport\u001b[0m \u001b[0mseaborn\u001b[0m \u001b[0;32mas\u001b[0m \u001b[0msns\u001b[0m\u001b[0;34m\u001b[0m\u001b[0m\n\u001b[0m\u001b[1;32m      2\u001b[0m \u001b[0msns\u001b[0m\u001b[0;34m.\u001b[0m\u001b[0mset_style\u001b[0m\u001b[0;34m(\u001b[0m\u001b[0;34m\"white\"\u001b[0m\u001b[0;34m)\u001b[0m  \u001b[0;31m# Makes plots prettier\u001b[0m\u001b[0;34m\u001b[0m\u001b[0m\n",
      "\u001b[0;31mImportError\u001b[0m: No module named seaborn"
     ]
    }
   ],
   "source": [
    "import seaborn as sns\n",
    "sns.set_style(\"white\")  # Makes plots prettier"
   ]
  },
  {
   "cell_type": "markdown",
   "metadata": {},
   "source": [
    "Alternatives and their consequences:\n",
    "\n",
    "> import numpy     $\\qquad$# You have to write numpy as prefix\n",
    "\n",
    "> from numpy import array   $\\qquad$ # Imports only the \"array\" function. Use it without prefix\n",
    "\n",
    "> from numpy import *    $\\qquad$ # Imports everything without prefix. Not recommended"
   ]
  },
  {
   "cell_type": "markdown",
   "metadata": {},
   "source": [
    "<img src = \"numpy.jpg\">"
   ]
  },
  {
   "cell_type": "markdown",
   "metadata": {},
   "source": [
    "\"NumPy is the fundamental package for scientific computing with Python\" http://www.numpy.org/\n",
    "\n",
    "Many commands are inspired by MATLAB. \n",
    "\n",
    "Implemented in C under the hood, so much faster than 'just' Python."
   ]
  },
  {
   "cell_type": "markdown",
   "metadata": {},
   "source": [
    "### <b>Arrays</b> (Matrices, vectors, etc)"
   ]
  },
  {
   "cell_type": "markdown",
   "metadata": {},
   "source": [
    "Creating one-dimensional arrays: pass a list of numbers to the numpy <i>array</i> function."
   ]
  },
  {
   "cell_type": "code",
   "execution_count": 11,
   "metadata": {
    "collapsed": false
   },
   "outputs": [
    {
     "data": {
      "text/plain": [
       "array([1, 2, 3, 4])"
      ]
     },
     "execution_count": 11,
     "metadata": {},
     "output_type": "execute_result"
    }
   ],
   "source": [
    "A = np.array([1,2,3,4]) # Argument is one list of numbers. Note we need the prefix \"np\" because we used \"import numpy as **np**\"\n",
    "A"
   ]
  },
  {
   "cell_type": "markdown",
   "metadata": {},
   "source": [
    "One-dimensional arrays need one positional index"
   ]
  },
  {
   "cell_type": "code",
   "execution_count": 12,
   "metadata": {
    "collapsed": false
   },
   "outputs": [
    {
     "data": {
      "text/plain": [
       "4"
      ]
     },
     "execution_count": 12,
     "metadata": {},
     "output_type": "execute_result"
    }
   ],
   "source": [
    "A[3]"
   ]
  },
  {
   "cell_type": "markdown",
   "metadata": {},
   "source": [
    "Creating two-dimensional arrays"
   ]
  },
  {
   "cell_type": "code",
   "execution_count": 897,
   "metadata": {
    "collapsed": false
   },
   "outputs": [
    {
     "data": {
      "text/plain": [
       "array([[1, 2, 3],\n",
       "       [4, 5, 6],\n",
       "       [7, 8, 9]])"
      ]
     },
     "execution_count": 897,
     "metadata": {},
     "output_type": "execute_result"
    }
   ],
   "source": [
    "B = np.array([[1,2,3],[4,5,6],[7,8,9]]) # Argument is list of lists of integers\n",
    "B"
   ]
  },
  {
   "cell_type": "markdown",
   "metadata": {},
   "source": [
    "Two-dimensional arrays need two positional indices"
   ]
  },
  {
   "cell_type": "code",
   "execution_count": 900,
   "metadata": {
    "collapsed": false
   },
   "outputs": [],
   "source": [
    "B[2,2]"
   ]
  },
  {
   "cell_type": "markdown",
   "metadata": {},
   "source": [
    "<font color = \"navy\"><b>Slices</b></font> These work similar to lists"
   ]
  },
  {
   "cell_type": "code",
   "execution_count": 909,
   "metadata": {
    "collapsed": false
   },
   "outputs": [
    {
     "data": {
      "text/plain": [
       "array([[4, 5],\n",
       "       [7, 8]])"
      ]
     },
     "execution_count": 909,
     "metadata": {},
     "output_type": "execute_result"
    }
   ],
   "source": [
    "B[1:, :2] # From row 1 on, and up to (but not including) column 2"
   ]
  },
  {
   "cell_type": "markdown",
   "metadata": {},
   "source": [
    "<b> Simple Operations"
   ]
  },
  {
   "cell_type": "markdown",
   "metadata": {},
   "source": [
    "Usual operations work <i>elementwise</i>"
   ]
  },
  {
   "cell_type": "code",
   "execution_count": 13,
   "metadata": {
    "collapsed": true
   },
   "outputs": [],
   "source": [
    "A = np.array([[1,2],[3,4]])\n",
    "B = np.array([[5,6],[7,8]])"
   ]
  },
  {
   "cell_type": "code",
   "execution_count": 14,
   "metadata": {
    "collapsed": false
   },
   "outputs": [
    {
     "data": {
      "text/plain": [
       "array([[ 6,  8],\n",
       "       [10, 12]])"
      ]
     },
     "execution_count": 14,
     "metadata": {},
     "output_type": "execute_result"
    }
   ],
   "source": [
    "A + B"
   ]
  },
  {
   "cell_type": "code",
   "execution_count": 15,
   "metadata": {
    "collapsed": false
   },
   "outputs": [
    {
     "data": {
      "text/plain": [
       "array([[ 1,  4],\n",
       "       [ 9, 16]])"
      ]
     },
     "execution_count": 15,
     "metadata": {},
     "output_type": "execute_result"
    }
   ],
   "source": [
    "A * A"
   ]
  },
  {
   "cell_type": "code",
   "execution_count": 16,
   "metadata": {
    "collapsed": false
   },
   "outputs": [
    {
     "data": {
      "text/plain": [
       "array([[1, 1],\n",
       "       [1, 1]])"
      ]
     },
     "execution_count": 16,
     "metadata": {},
     "output_type": "execute_result"
    }
   ],
   "source": [
    "A / A"
   ]
  },
  {
   "cell_type": "code",
   "execution_count": 17,
   "metadata": {
    "collapsed": false
   },
   "outputs": [
    {
     "data": {
      "text/plain": [
       "array([[ 1,  4],\n",
       "       [ 9, 16]])"
      ]
     },
     "execution_count": 17,
     "metadata": {},
     "output_type": "execute_result"
    }
   ],
   "source": [
    "A**2"
   ]
  },
  {
   "cell_type": "markdown",
   "metadata": {},
   "source": [
    "<font color = \"navy\"><b>Methods and attributes</b></font>"
   ]
  },
  {
   "cell_type": "markdown",
   "metadata": {},
   "source": [
    "Like everything else in Python, numpy arrays have built-in attributes and built-in functions (called <i>methods</i>) that are accessible after a dot."
   ]
  },
  {
   "cell_type": "code",
   "execution_count": 918,
   "metadata": {
    "collapsed": false
   },
   "outputs": [
    {
     "data": {
      "text/plain": [
       "array([[1, 2],\n",
       "       [3, 4]])"
      ]
     },
     "execution_count": 918,
     "metadata": {},
     "output_type": "execute_result"
    }
   ],
   "source": [
    "A"
   ]
  },
  {
   "cell_type": "code",
   "execution_count": 18,
   "metadata": {
    "collapsed": false
   },
   "outputs": [
    {
     "data": {
      "text/plain": [
       "(2, 2)"
      ]
     },
     "execution_count": 18,
     "metadata": {},
     "output_type": "execute_result"
    }
   ],
   "source": [
    "A.shape # Attribute: shape"
   ]
  },
  {
   "cell_type": "code",
   "execution_count": 19,
   "metadata": {
    "collapsed": false
   },
   "outputs": [
    {
     "data": {
      "text/plain": [
       "4"
      ]
     },
     "execution_count": 19,
     "metadata": {},
     "output_type": "execute_result"
    }
   ],
   "source": [
    "A.size # Attribute: number of elements"
   ]
  },
  {
   "cell_type": "code",
   "execution_count": 20,
   "metadata": {
    "collapsed": false
   },
   "outputs": [
    {
     "data": {
      "text/plain": [
       "array([[1, 3],\n",
       "       [2, 4]])"
      ]
     },
     "execution_count": 20,
     "metadata": {},
     "output_type": "execute_result"
    }
   ],
   "source": [
    "A.T # Method: transpose"
   ]
  },
  {
   "cell_type": "code",
   "execution_count": 21,
   "metadata": {
    "collapsed": false
   },
   "outputs": [
    {
     "data": {
      "text/plain": [
       "2.5"
      ]
     },
     "execution_count": 21,
     "metadata": {},
     "output_type": "execute_result"
    }
   ],
   "source": [
    "A.mean() "
   ]
  },
  {
   "cell_type": "code",
   "execution_count": 22,
   "metadata": {
    "collapsed": false
   },
   "outputs": [
    {
     "data": {
      "text/plain": [
       "array([ 2.,  3.])"
      ]
     },
     "execution_count": 22,
     "metadata": {},
     "output_type": "execute_result"
    }
   ],
   "source": [
    "A.mean(axis = 0) # The Zero-th axis are the column, the 1st axis are the rows"
   ]
  },
  {
   "cell_type": "markdown",
   "metadata": {},
   "source": [
    "Some of the methods are available as numpy functions"
   ]
  },
  {
   "cell_type": "code",
   "execution_count": 23,
   "metadata": {
    "collapsed": false
   },
   "outputs": [
    {
     "data": {
      "text/plain": [
       "array([ 2.,  3.])"
      ]
     },
     "execution_count": 23,
     "metadata": {},
     "output_type": "execute_result"
    }
   ],
   "source": [
    "np.mean(A, axis = 0)   # Alternative."
   ]
  },
  {
   "cell_type": "markdown",
   "metadata": {},
   "source": [
    "### Linear Algebra"
   ]
  },
  {
   "cell_type": "markdown",
   "metadata": {},
   "source": [
    "Dot product (i.e. vector- or matrix-product) is also a method"
   ]
  },
  {
   "cell_type": "code",
   "execution_count": 24,
   "metadata": {
    "collapsed": false
   },
   "outputs": [
    {
     "data": {
      "text/plain": [
       "array([[19, 22],\n",
       "       [43, 50]])"
      ]
     },
     "execution_count": 24,
     "metadata": {},
     "output_type": "execute_result"
    }
   ],
   "source": [
    "A.dot(B)"
   ]
  },
  {
   "cell_type": "markdown",
   "metadata": {},
   "source": [
    "Other functions are part of the <i>linalg</i> submodule"
   ]
  },
  {
   "cell_type": "code",
   "execution_count": 25,
   "metadata": {
    "collapsed": true
   },
   "outputs": [],
   "source": [
    "A = np.array([[2,1],[1,2]])"
   ]
  },
  {
   "cell_type": "code",
   "execution_count": 26,
   "metadata": {
    "collapsed": false
   },
   "outputs": [
    {
     "data": {
      "text/plain": [
       "2.9999999999999996"
      ]
     },
     "execution_count": 26,
     "metadata": {},
     "output_type": "execute_result"
    }
   ],
   "source": [
    "np.linalg.det(A)  # Up to numerical precision..."
   ]
  },
  {
   "cell_type": "code",
   "execution_count": 27,
   "metadata": {
    "collapsed": false
   },
   "outputs": [
    {
     "data": {
      "text/plain": [
       "array([[ 0.66666667, -0.33333333],\n",
       "       [-0.33333333,  0.66666667]])"
      ]
     },
     "execution_count": 27,
     "metadata": {},
     "output_type": "execute_result"
    }
   ],
   "source": [
    "np.linalg.inv(A)"
   ]
  },
  {
   "cell_type": "markdown",
   "metadata": {},
   "source": [
    "### Scientific Computing"
   ]
  },
  {
   "cell_type": "markdown",
   "metadata": {},
   "source": [
    "Function in numpy are written in optimized C code to run very fast, even if applied elementwise on an array."
   ]
  },
  {
   "cell_type": "code",
   "execution_count": 28,
   "metadata": {
    "collapsed": false
   },
   "outputs": [
    {
     "data": {
      "text/plain": [
       "array([[ 0.69314718,  0.        ],\n",
       "       [ 0.        ,  0.69314718]])"
      ]
     },
     "execution_count": 28,
     "metadata": {},
     "output_type": "execute_result"
    }
   ],
   "source": [
    "np.log(A)   # Natural logarithm"
   ]
  },
  {
   "cell_type": "code",
   "execution_count": 29,
   "metadata": {
    "collapsed": false
   },
   "outputs": [
    {
     "data": {
      "text/plain": [
       "array([[ 7.3890561 ,  2.71828183],\n",
       "       [ 2.71828183,  7.3890561 ]])"
      ]
     },
     "execution_count": 29,
     "metadata": {},
     "output_type": "execute_result"
    }
   ],
   "source": [
    "np.exp(A)   # Exponential"
   ]
  },
  {
   "cell_type": "code",
   "execution_count": 30,
   "metadata": {
    "collapsed": false
   },
   "outputs": [
    {
     "data": {
      "text/plain": [
       "array([[ 2.31243834,  2.49177985],\n",
       "       [ 2.64412076,  2.77647228]])"
      ]
     },
     "execution_count": 30,
     "metadata": {},
     "output_type": "execute_result"
    }
   ],
   "source": [
    "np.arcsinh(B)  # Whatever this one is..."
   ]
  },
  {
   "cell_type": "markdown",
   "metadata": {},
   "source": [
    "Some functions are useful to create arrays on the fly"
   ]
  },
  {
   "cell_type": "code",
   "execution_count": 31,
   "metadata": {
    "collapsed": false
   },
   "outputs": [
    {
     "data": {
      "text/plain": [
       "array([   0.,   25.,   50.,   75.,  100.])"
      ]
     },
     "execution_count": 31,
     "metadata": {},
     "output_type": "execute_result"
    }
   ],
   "source": [
    "np.linspace(start = 0, stop = 100, num = 5)  # Linearly spaced array with 5 items"
   ]
  },
  {
   "cell_type": "markdown",
   "metadata": {},
   "source": [
    "Do <i>not</i> try to memorize all the commands right now! \n",
    "\n",
    "You can just learn by doing the homeworks and developing your own projects. Have fun!"
   ]
  },
  {
   "cell_type": "markdown",
   "metadata": {},
   "source": [
    " "
   ]
  },
  {
   "cell_type": "markdown",
   "metadata": {},
   "source": [
    "<img src = \"matplotlib.png\">"
   ]
  },
  {
   "cell_type": "code",
   "execution_count": 61,
   "metadata": {
    "collapsed": false
   },
   "outputs": [],
   "source": [
    "x = np.linspace(start = -4, stop = 4, num = 100)\n",
    "y1 = np.sin(x)\n",
    "y2 = np.cos(x)"
   ]
  },
  {
   "cell_type": "markdown",
   "metadata": {},
   "source": [
    "<b>Method 1</b> This is one way of plotting functions in python, but we'll mostly use the next one."
   ]
  },
  {
   "cell_type": "code",
   "execution_count": 62,
   "metadata": {
    "collapsed": false
   },
   "outputs": [
    {
     "data": {
      "text/plain": [
       "[<matplotlib.lines.Line2D at 0x10a19d210>]"
      ]
     },
     "execution_count": 62,
     "metadata": {},
     "output_type": "execute_result"
    },
    {
     "data": {
      "image/png": "[encoded data removed]",
      "text/plain": [
       "<matplotlib.figure.Figure at 0x109eeff50>"
      ]
     },
     "metadata": {},
     "output_type": "display_data"
    }
   ],
   "source": [
    "plt.plot(x, y1)   # You need the prefix \"plt\" because we used \"import matplotlib.pyplot as **plt**\"\n",
    "plt.plot(x, y2)"
   ]
  },
  {
   "cell_type": "markdown",
   "metadata": {},
   "source": [
    "<b>Method 2</b> Uncomment the code below one block at a time at your leisure, to see what it does."
   ]
  },
  {
   "cell_type": "code",
   "execution_count": 66,
   "metadata": {
    "collapsed": false,
    "scrolled": false
   },
   "outputs": [
    {
     "data": {
      "image/png": "[encoded data removed]",
      "text/plain": [
       "<matplotlib.figure.Figure at 0x10a329050>"
      ]
     },
     "metadata": {},
     "output_type": "display_data"
    }
   ],
   "source": [
    "fig, ax = plt.subplots(2, 2, figsize = (15, 5))\n",
    "\n",
    "fig.suptitle(\"A plot with many subplots\", fontsize = 20)\n",
    "\n",
    "#fig.subplots_adjust(top = .8, hspace = .8)\n",
    "\n",
    "p = ax[0,0].plot(x, y1, linestyle = \"-\", linewidth = 1, color = \"black\", label = \"solid\")\n",
    "\n",
    "p = ax[0,0].set_title(\"Standard\")\n",
    "\n",
    "p = ax[0,0].legend(loc = \"best\")\n",
    "\n",
    "p = ax[0,0].set_xlabel(\"Horizontal axis\")\n",
    "p = ax[0,0].set_ylabel(\"Vertical axis\")\n",
    "\n",
    "p = ax[0,0].set_yticks([-1,0,1])\n",
    "p = ax[0,0].set_yticklabels([\"very low\",\"middle bit\", \"pretty high\"])\n",
    "\n",
    "p = ax[0,0].set_xticks([-4,-np.pi,-2,-1,0,1,2,np.pi,4])\n",
    "p = ax[0,0].set_xticklabels([-4, \"$-\\pi$\", -2, \"$i^2$\",\"Zero\", 1, 2, \"$\\pi$\", \"$\\sqrt{16}$\"], rotation = 20)\n",
    "\n",
    "p = ax[0,1].plot(x, y2, linestyle = \"--\", linewidth = 5, color = \"orange\", label = \"dotted\")\n",
    "p = ax[0,1].set_title(\"Orangey\", color = \"darkorange\")\n",
    "p = ax[0,1].legend(loc = \"best\")\n",
    "\n",
    "p = ax[1,0].fill_between(x, y1, y2, color = \"navy\", label = \"dotted\", alpha = .5)\n",
    "p = ax[1,0].set_title(\"Between the lines\", color = \"navy\")\n",
    "\n",
    "p = ax[1,1].hist(y1, color = \"purple\", label = \"dotted\", bins = 20, normed = True)\n",
    "p = ax[1,1].set_title(\"Histogram\", color = \"purple\")\n",
    "\n",
    "#sns.despine() #(Only if you've installed seaborn)"
   ]
  },
  {
   "cell_type": "markdown",
   "metadata": {},
   "source": [
    "The point is: you can change pretty much anything you want in any plot."
   ]
  },
  {
   "cell_type": "markdown",
   "metadata": {},
   "source": [
    "# Simulating data"
   ]
  },
  {
   "cell_type": "markdown",
   "metadata": {},
   "source": [
    "One of the most useful skills you will learn in EC3389 is to simulate data. The numpy submodule <i>random</i> is our next destination."
   ]
  },
  {
   "cell_type": "code",
   "execution_count": 74,
   "metadata": {
    "collapsed": false
   },
   "outputs": [],
   "source": [
    "x = np.random.uniform(low = 0, high = 1, size = (1000,1)) # Draws an array of size (m,n) from Unif[0,1]\n",
    "y = np.random.normal(loc = 0, scale = 2, size = (1000,4)) # Draws an array of size (m,n) from Normal(0,*4*)"
   ]
  },
  {
   "cell_type": "code",
   "execution_count": 71,
   "metadata": {
    "collapsed": false
   },
   "outputs": [
    {
     "data": {
      "text/plain": [
       "array([[ 0.27182123],\n",
       "       [ 0.44864873],\n",
       "       [ 0.0141638 ],\n",
       "       [ 0.18127013]])"
      ]
     },
     "execution_count": 71,
     "metadata": {},
     "output_type": "execute_result"
    }
   ],
   "source": [
    "x[:4]\n",
    "#x"
   ]
  },
  {
   "cell_type": "code",
   "execution_count": 75,
   "metadata": {
    "collapsed": false
   },
   "outputs": [
    {
     "data": {
      "text/plain": [
       "array([[-1.67113647, -0.6302294 ,  0.86699187,  3.36085353],\n",
       "       [ 0.5257432 , -3.1439794 ,  0.6859837 , -0.60589885],\n",
       "       [-2.12680228,  2.81674389,  0.19660228, -1.30437151],\n",
       "       [-1.13850834,  0.09589825,  0.35064068, -0.03841703]])"
      ]
     },
     "execution_count": 75,
     "metadata": {},
     "output_type": "execute_result"
    }
   ],
   "source": [
    "y[:4]\n",
    "#y"
   ]
  },
  {
   "cell_type": "markdown",
   "metadata": {},
   "source": [
    "<b>Exercise</b> Can you quickly plot two histograms, one containing x, another containing y?"
   ]
  },
  {
   "cell_type": "code",
   "execution_count": 88,
   "metadata": {
    "collapsed": false,
    "scrolled": true
   },
   "outputs": [
    {
     "data": {
      "text/plain": [
       "([array([   1.,    5.,    9.,   25.,   63.,   94.,  159.,  187.,  188.,\n",
       "          135.,   68.,   39.,   19.,    8.,    0.]),\n",
       "  array([   0.,    4.,    9.,   28.,   48.,  106.,  140.,  171.,  168.,\n",
       "          141.,  112.,   47.,   20.,    5.,    1.]),\n",
       "  array([   3.,    5.,   14.,   25.,   57.,  100.,  170.,  166.,  180.,\n",
       "          133.,   76.,   52.,   16.,    3.,    0.]),\n",
       "  array([   0.,    2.,   12.,   34.,   68.,   91.,  137.,  205.,  171.,\n",
       "          119.,   76.,   54.,   18.,    8.,    5.])],\n",
       " array([-7.20651347, -6.28863332, -5.37075316, -4.452873  , -3.53499284,\n",
       "        -2.61711268, -1.69923253, -0.78135237,  0.13652779,  1.05440795,\n",
       "         1.97228811,  2.89016826,  3.80804842,  4.72592858,  5.64380874,\n",
       "         6.5616889 ]),\n",
       " <a list of 4 Lists of Patches objects>)"
      ]
     },
     "execution_count": 88,
     "metadata": {},
     "output_type": "execute_result"
    },
    {
     "data": {
      "image/png": "[encoded data removed]",
      "text/plain": [
       "<matplotlib.figure.Figure at 0x11bf7c950>"
      ]
     },
     "metadata": {},
     "output_type": "display_data"
    }
   ],
   "source": [
    "fig, ax = plt.subplots(1,2, figsize = (12,5)) # Continue on the next line.\n",
    "ax[0].hist(x, normed = True)  #normalize to make it a probability distribution (area sums to 1)\n",
    "ax[1].hist(y, bins = 15)"
   ]
  },
  {
   "cell_type": "markdown",
   "metadata": {},
   "source": [
    "## Monte Carlo Methods 1: Simulating the Central Limit Theorem"
   ]
  },
  {
   "cell_type": "code",
   "execution_count": 92,
   "metadata": {
    "collapsed": false
   },
   "outputs": [],
   "source": [
    "#help(ax[1].hist)"
   ]
  },
  {
   "cell_type": "markdown",
   "metadata": {},
   "source": [
    "<b>Sampling distribution of the mean of a normally distributed variable</b>"
   ]
  },
  {
   "cell_type": "markdown",
   "metadata": {},
   "source": [
    "We will do the following $n\\_iter$ times:\n"
   ]
  },
  {
   "cell_type": "markdown",
   "metadata": {},
   "source": [
    "\n",
    "+ Draw $X_{j} \\sim \\mathcal{N}(0,1)$ for $j$ in $1,2,\\cdots,n\\_obs$\n",
    "+ Compute and store the sample mean $\\overline{X} = \\frac{1}{n} \\sum_{j}X_{j}$\n",
    "\n",
    "Then check out the distribution of the $\\overline{X}$s."
   ]
  },
  {
   "cell_type": "code",
   "execution_count": 106,
   "metadata": {
    "collapsed": true
   },
   "outputs": [],
   "source": [
    "n_iter = 10000 # Some large number of iterations.\n",
    "n_obs = 10 # Number of observations, starting small."
   ]
  },
  {
   "cell_type": "markdown",
   "metadata": {},
   "source": [
    "Drawing step, using an array instead of a for loop."
   ]
  },
  {
   "cell_type": "code",
   "execution_count": 107,
   "metadata": {
    "collapsed": true
   },
   "outputs": [],
   "source": [
    "X = np.random.normal(loc = 1, scale = 1, size = (n_iter, n_obs))"
   ]
  },
  {
   "cell_type": "markdown",
   "metadata": {},
   "source": [
    "Computing the average value of the draws obtained at each iteration"
   ]
  },
  {
   "cell_type": "code",
   "execution_count": 108,
   "metadata": {
    "collapsed": true
   },
   "outputs": [],
   "source": [
    "Xbar = np.mean(X, axis = 1)"
   ]
  },
  {
   "cell_type": "markdown",
   "metadata": {},
   "source": [
    "\n",
    "Let's plot two normed histograms, one of the $X_{i,j}$, another of the $\\overline{X}_{i}$'s."
   ]
  },
  {
   "cell_type": "code",
   "execution_count": 109,
   "metadata": {
    "collapsed": false
   },
   "outputs": [
    {
     "data": {
      "image/png": "[encoded data removed]",
      "text/plain": [
       "<matplotlib.figure.Figure at 0x11ffe1290>"
      ]
     },
     "metadata": {},
     "output_type": "display_data"
    }
   ],
   "source": [
    "fig, ax = plt.subplots(1,2, figsize = (20, 5))\n",
    "\n",
    "p = ax[0].hist(X.flatten(), normed = True, bins= 100)\n",
    "p = ax[0].set_title(\"Distribution of $X$\", fontsize = 20)\n",
    "\n",
    "p = ax[1].hist(Xbar.flatten(), normed = True, bins = 100)\n",
    "p = ax[1].set_title(\"Distribution of the sample mean of $X$\", fontsize = 20)"
   ]
  },
  {
   "cell_type": "markdown",
   "metadata": {},
   "source": [
    "<b>Numerically-computed statistics</b> If we have a large random sample drawn from some distribution, we can approximate the true moments of the distribution by their sample counterparts."
   ]
  },
  {
   "cell_type": "markdown",
   "metadata": {},
   "source": [
    "$E[X] \\approx \\overline{X}$"
   ]
  },
  {
   "cell_type": "code",
   "execution_count": 110,
   "metadata": {
    "collapsed": false
   },
   "outputs": [
    {
     "name": "stdout",
     "output_type": "stream",
     "text": [
      "1.00096947465\n",
      "1.00096947465\n"
     ]
    }
   ],
   "source": [
    "print(np.mean(Xbar))\n",
    "print(np.mean(X))"
   ]
  },
  {
   "cell_type": "markdown",
   "metadata": {},
   "source": [
    "$Var[X] \\approx \\overline{X^2} - \\overline{X}^2$"
   ]
  },
  {
   "cell_type": "code",
   "execution_count": 111,
   "metadata": {
    "collapsed": false
   },
   "outputs": [
    {
     "name": "stdout",
     "output_type": "stream",
     "text": [
      "0.0991774399335\n",
      "1.00133033534\n"
     ]
    }
   ],
   "source": [
    "print(np.var(Xbar))\n",
    "print(np.var(X))"
   ]
  },
  {
   "cell_type": "markdown",
   "metadata": {},
   "source": [
    "<b>Questions</b> All of these can be answered numerically!"
   ]
  },
  {
   "cell_type": "markdown",
   "metadata": {},
   "source": [
    "+ What does that say about the <i><b>sampling distribution</b> of the mean</i>, when the underlying random variable is normal?\n",
    "\n",
    "+ What if $X_{i}$ were normally distributed with <b>different parameters</b>?\n",
    "\n",
    "+ What happens as the <b>number of observations grows</b>?"
   ]
  },
  {
   "cell_type": "markdown",
   "metadata": {},
   "source": [
    "### The fun begins: escaping normality"
   ]
  },
  {
   "cell_type": "markdown",
   "metadata": {},
   "source": [
    "What if $X$ is <i>not</i> normally distributed? Change the distribution below to whatever distribution you like!"
   ]
  },
  {
   "cell_type": "code",
   "execution_count": 142,
   "metadata": {
    "collapsed": true
   },
   "outputs": [],
   "source": [
    "n_obs = 2  # Start very small\n",
    "n_iter = 50000 "
   ]
  },
  {
   "cell_type": "code",
   "execution_count": 143,
   "metadata": {
    "collapsed": false
   },
   "outputs": [],
   "source": [
    "X = np.random.uniform(0, 1, size = (n_iter, n_obs)) # <---- CHANGE THIS DISTRIBUTION\n",
    "Xbar = np.mean(X, axis = 1)"
   ]
  },
  {
   "cell_type": "code",
   "execution_count": 144,
   "metadata": {
    "collapsed": false
   },
   "outputs": [
    {
     "data": {
      "image/png": "[encoded data removed]",
      "text/plain": [
       "<matplotlib.figure.Figure at 0x12273b090>"
      ]
     },
     "metadata": {},
     "output_type": "display_data"
    }
   ],
   "source": [
    "fig, ax = plt.subplots(1,2, figsize = (20, 5))\n",
    "\n",
    "p = ax[0].hist(X.flatten(), normed = True, bins= 100)\n",
    "p = ax[0].set_title(\"Distribution of $X$\", fontsize = 20)\n",
    "\n",
    "p = ax[1].hist(Xbar.flatten(), normed = True, bins = 100)\n",
    "p = ax[1].set_title(\"Distribution of the sample mean of $X$\", fontsize = 20)"
   ]
  },
  {
   "cell_type": "markdown",
   "metadata": {},
   "source": [
    "Again, we can aproximate the statistics numerically"
   ]
  },
  {
   "cell_type": "code",
   "execution_count": 118,
   "metadata": {
    "collapsed": true
   },
   "outputs": [],
   "source": [
    "#sum of two distributions is called a convolution\n",
    "#p(a+b) == p(a) + p(b)   (their convolution)\n",
    "#each convolution is a rectangle (uniform dist)\n",
    "#pyramid is the overlap between the two distibutions\n",
    "#  -- increases and then decreases linearly\n",
    "\n",
    "#see: de-convolution algorithms "
   ]
  },
  {
   "cell_type": "code",
   "execution_count": 119,
   "metadata": {
    "collapsed": false
   },
   "outputs": [
    {
     "name": "stdout",
     "output_type": "stream",
     "text": [
      "0.498534318266\n"
     ]
    }
   ],
   "source": [
    "print(np.mean(Xbar)) # Mean over the sample means"
   ]
  },
  {
   "cell_type": "code",
   "execution_count": 120,
   "metadata": {
    "collapsed": false
   },
   "outputs": [
    {
     "name": "stdout",
     "output_type": "stream",
     "text": [
      "0.0417553587531\n"
     ]
    }
   ],
   "source": [
    "print(np.var(Xbar)) # Variance of sample means"
   ]
  },
  {
   "cell_type": "markdown",
   "metadata": {},
   "source": [
    "## Monte Carlo Methods 2: Simulating the Law of Large Numbers"
   ]
  },
  {
   "cell_type": "markdown",
   "metadata": {},
   "source": [
    "The Law of Large number says that as $n$ grows, the sample average approaches the true mean."
   ]
  },
  {
   "cell_type": "markdown",
   "metadata": {},
   "source": [
    "Can we visualize that convergence? Let's do the following."
   ]
  },
  {
   "cell_type": "markdown",
   "metadata": {},
   "source": [
    "+ Draw $n\\_obs$ observations.\n",
    "\n",
    "+ For each $m$ in $1,\\cdots,n\\_obs$, compute $\\overline{X}_{m} = \\sum_{j=0}^{m+1}X_{j} $"
   ]
  },
  {
   "cell_type": "code",
   "execution_count": 182,
   "metadata": {
    "collapsed": false
   },
   "outputs": [],
   "source": [
    "n_obs = 1000\n",
    "X = np.random.normal(0, 1, size = (n_obs,))"
   ]
  },
  {
   "cell_type": "code",
   "execution_count": 183,
   "metadata": {
    "collapsed": false
   },
   "outputs": [],
   "source": [
    "Xbarm = np.zeros((n_obs,)) # Initialize the output\n",
    "for i in range(n_obs):\n",
    "    Xbarm[i] = np.mean(X[:i+1])"
   ]
  },
  {
   "cell_type": "code",
   "execution_count": 184,
   "metadata": {
    "collapsed": false
   },
   "outputs": [
    {
     "data": {
      "text/plain": [
       "<matplotlib.text.Text at 0x120a26f50>"
      ]
     },
     "execution_count": 184,
     "metadata": {},
     "output_type": "execute_result"
    },
    {
     "data": {
      "image/png": "[encoded data removed]",
      "text/plain": [
       "<matplotlib.figure.Figure at 0x1211c8d10>"
      ]
     },
     "metadata": {},
     "output_type": "display_data"
    }
   ],
   "source": [
    "fig, ax = plt.subplots(1, figsize = (10,5))\n",
    "ax.plot(range(n_obs), Xbarm, linewidth = 2)\n",
    "ax.hlines(y = 0, xmin = 0, xmax = n_obs, linestyles = \"--\")\n",
    "ax.set_title(\"Sample mean up to $m$\", fontsize = 20)\n",
    "ax.set_xlabel(\"$m$\", fontsize = 20)\n",
    "#sns.despine()"
   ]
  },
  {
   "cell_type": "markdown",
   "metadata": {},
   "source": [
    "Again, go back and play around with the parameters of the distribution, or with the distribution itself. \n",
    "\n",
    "How does the graph change? \n",
    "\n",
    "Does this happen for any distribution?"
   ]
  },
  {
   "cell_type": "markdown",
   "metadata": {},
   "source": [
    "<b>Connection with CLT</b> This is just FYI. Can you see how this ties into the section above?"
   ]
  },
  {
   "cell_type": "code",
   "execution_count": 186,
   "metadata": {
    "collapsed": false
   },
   "outputs": [
    {
     "data": {
      "text/plain": [
       "<matplotlib.text.Text at 0x10a4a7590>"
      ]
     },
     "execution_count": 186,
     "metadata": {},
     "output_type": "execute_result"
    },
    {
     "data": {
      "image/png": "[encoded data removed]",
      "text/plain": [
       "<matplotlib.figure.Figure at 0x109e8af90>"
      ]
     },
     "metadata": {},
     "output_type": "display_data"
    }
   ],
   "source": [
    "fig, ax = plt.subplots(1, figsize = (10,5))\n",
    "\n",
    "n_obs = 50\n",
    "n_iter = 1000\n",
    "\n",
    "X = np.random.normal(0, 1, size = (n_obs, n_iter))\n",
    "Xbarn = np.zeros((n_obs,))\n",
    "for m in range(n_iter):\n",
    "    for i in range(n_obs):\n",
    "        Xbarn[i] = np.mean(X[:i+1, m])\n",
    "    \n",
    "    ax.plot(range(n_obs), Xbarn, linewidth = 1, alpha = .05, color = \"darkorange\")\n",
    "    \n",
    "ax.hlines(y = 0, xmin = 0, xmax = n_obs, linestyles = \"--\")\n",
    "ax.set_title(\"Sample mean up to $m$ (many iterations)\", fontsize = 20)\n",
    "ax.set_xlabel(\"$m$\", fontsize = 20)\n",
    "#sns.despine()"
   ]
  },
  {
   "cell_type": "markdown",
   "metadata": {},
   "source": [
    "\n",
    "## Simulating the distribution of the OLS"
   ]
  },
  {
   "cell_type": "code",
   "execution_count": null,
   "metadata": {
    "collapsed": true
   },
   "outputs": [],
   "source": []
  },
  {
   "cell_type": "code",
   "execution_count": null,
   "metadata": {
    "collapsed": true
   },
   "outputs": [],
   "source": [
    "#youtube: harvard probability. conditional expectation, others . . . "
   ]
  },
  {
   "cell_type": "markdown",
   "metadata": {
    "collapsed": true
   },
   "source": [
    "Coming soon, to a homework near you."
   ]
  }
 ],
 "metadata": {
  "kernelspec": {
   "display_name": "Python 2",
   "language": "python",
   "name": "python2"
  },
  "language_info": {
   "codemirror_mode": {
    "name": "ipython",
    "version": 2
   },
   "file_extension": ".py",
   "mimetype": "text/x-python",
   "name": "python",
   "nbconvert_exporter": "python",
   "pygments_lexer": "ipython2",
   "version": "2.7.11"
  }
 },
 "nbformat": 4,
 "nbformat_minor": 0
}
