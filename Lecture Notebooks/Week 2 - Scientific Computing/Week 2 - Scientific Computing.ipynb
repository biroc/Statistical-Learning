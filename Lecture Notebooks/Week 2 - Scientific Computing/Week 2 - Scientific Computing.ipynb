{
 "cells": [
  {
   "cell_type": "markdown",
   "metadata": {
    "slideshow": {
     "slide_type": "slide"
    }
   },
   "source": [
    "# <center> Week 2 - Scientific Computing in Python </center>"
   ]
  },
  {
   "cell_type": "markdown",
   "metadata": {},
   "source": [
    "<img src = \"pythonxkcd.png\">"
   ]
  },
  {
   "cell_type": "markdown",
   "metadata": {},
   "source": [
    "# Python modules"
   ]
  },
  {
   "cell_type": "markdown",
   "metadata": {},
   "source": [
    "<b> Installing</b> With pip: https://en.wikipedia.org/wiki/Pip_(package_manager)\n",
    "\n",
    "$ pip install <i>package name</i> \n",
    "\n",
    "\n",
    "<b> Importing"
   ]
  },
  {
   "cell_type": "markdown",
   "metadata": {},
   "source": [
    "This goes in the beginning of your file or notebook."
   ]
  },
  {
   "cell_type": "code",
   "execution_count": 931,
   "metadata": {
    "collapsed": false
   },
   "outputs": [],
   "source": [
    "import numpy as np\n",
    "import matplotlib.pyplot as plt\n",
    "%matplotlib inline    \n",
    "# This last line forces the plots to be displayed within the notebook, as opposed to opening a new window. "
   ]
  },
  {
   "cell_type": "markdown",
   "metadata": {},
   "source": [
    "If you can't do this now, that's ok."
   ]
  },
  {
   "cell_type": "code",
   "execution_count": 997,
   "metadata": {
    "collapsed": true
   },
   "outputs": [],
   "source": [
    "import seaborn as sns\n",
    "sns.set_style(\"white\")  # Makes plots prettier"
   ]
  },
  {
   "cell_type": "markdown",
   "metadata": {},
   "source": [
    "Alternatives and their consequences:\n",
    "\n",
    "> import numpy     $\\qquad$# You have to write numpy as prefix\n",
    "\n",
    "> from numpy import array   $\\qquad$ # Imports only the \"array\" function. Use it without prefix\n",
    "\n",
    "> from numpy import *    $\\qquad$ # Imports everything without prefix. Not recommended"
   ]
  },
  {
   "cell_type": "markdown",
   "metadata": {},
   "source": [
    "<img src = \"numpy.jpg\">"
   ]
  },
  {
   "cell_type": "markdown",
   "metadata": {},
   "source": [
    "\"NumPy is the fundamental package for scientific computing with Python\" http://www.numpy.org/\n",
    "\n",
    "Many commands are inspired by MATLAB. \n",
    "\n",
    "Implemented in C under the hood, so much faster than 'just' Python."
   ]
  },
  {
   "cell_type": "markdown",
   "metadata": {},
   "source": [
    "### <b>Arrays</b> (Matrices, vectors, etc)"
   ]
  },
  {
   "cell_type": "markdown",
   "metadata": {},
   "source": [
    "Creating one-dimensional arrays: pass a list of numbers to the numpy <i>array</i> function."
   ]
  },
  {
   "cell_type": "code",
   "execution_count": 895,
   "metadata": {
    "collapsed": false
   },
   "outputs": [
    {
     "data": {
      "text/plain": [
       "array([1, 2, 3, 4])"
      ]
     },
     "execution_count": 895,
     "metadata": {},
     "output_type": "execute_result"
    }
   ],
   "source": [
    "A = np.array([1,2,3,4]) # Argument is one list of numbers. Note we need the prefix \"np\" because we used \"import numpy as **np**\"\n",
    "A"
   ]
  },
  {
   "cell_type": "markdown",
   "metadata": {},
   "source": [
    "One-dimensional arrays need one positional index"
   ]
  },
  {
   "cell_type": "code",
   "execution_count": 899,
   "metadata": {
    "collapsed": false
   },
   "outputs": [],
   "source": [
    "A[3]"
   ]
  },
  {
   "cell_type": "markdown",
   "metadata": {},
   "source": [
    "Creating two-dimensional arrays"
   ]
  },
  {
   "cell_type": "code",
   "execution_count": 897,
   "metadata": {
    "collapsed": false
   },
   "outputs": [
    {
     "data": {
      "text/plain": [
       "array([[1, 2, 3],\n",
       "       [4, 5, 6],\n",
       "       [7, 8, 9]])"
      ]
     },
     "execution_count": 897,
     "metadata": {},
     "output_type": "execute_result"
    }
   ],
   "source": [
    "B = np.array([[1,2,3],[4,5,6],[7,8,9]]) # Argument is list of lists of integers\n",
    "B"
   ]
  },
  {
   "cell_type": "markdown",
   "metadata": {},
   "source": [
    "Two-dimensional arrays need two positional indices"
   ]
  },
  {
   "cell_type": "code",
   "execution_count": 900,
   "metadata": {
    "collapsed": false
   },
   "outputs": [],
   "source": [
    "B[2,2]"
   ]
  },
  {
   "cell_type": "markdown",
   "metadata": {},
   "source": [
    "<font color = \"navy\"><b>Slices</b></font> These work similar to lists"
   ]
  },
  {
   "cell_type": "code",
   "execution_count": 909,
   "metadata": {
    "collapsed": false
   },
   "outputs": [
    {
     "data": {
      "text/plain": [
       "array([[4, 5],\n",
       "       [7, 8]])"
      ]
     },
     "execution_count": 909,
     "metadata": {},
     "output_type": "execute_result"
    }
   ],
   "source": [
    "B[1:, :2] # From row 1 on, and up to (but not including) column 2"
   ]
  },
  {
   "cell_type": "markdown",
   "metadata": {},
   "source": [
    "<b> Simple Operations"
   ]
  },
  {
   "cell_type": "markdown",
   "metadata": {},
   "source": [
    "Usual operations work <i>elementwise</i>"
   ]
  },
  {
   "cell_type": "code",
   "execution_count": 912,
   "metadata": {
    "collapsed": true
   },
   "outputs": [],
   "source": [
    "A = np.array([[1,2],[3,4]])\n",
    "B = np.array([[5,6],[7,8]])"
   ]
  },
  {
   "cell_type": "code",
   "execution_count": 913,
   "metadata": {
    "collapsed": false
   },
   "outputs": [],
   "source": [
    "A + B"
   ]
  },
  {
   "cell_type": "code",
   "execution_count": null,
   "metadata": {
    "collapsed": true
   },
   "outputs": [],
   "source": [
    "A * A"
   ]
  },
  {
   "cell_type": "code",
   "execution_count": 914,
   "metadata": {
    "collapsed": false
   },
   "outputs": [],
   "source": [
    "A / A"
   ]
  },
  {
   "cell_type": "code",
   "execution_count": null,
   "metadata": {
    "collapsed": true
   },
   "outputs": [],
   "source": [
    "A**2"
   ]
  },
  {
   "cell_type": "markdown",
   "metadata": {},
   "source": [
    "<font color = \"navy\"><b>Methods and attributes</b></font>"
   ]
  },
  {
   "cell_type": "markdown",
   "metadata": {},
   "source": [
    "Like everything else in Python, numpy arrays have built-in attributes and built-in functions (called <i>methods</i>) that are accessible after a dot."
   ]
  },
  {
   "cell_type": "code",
   "execution_count": 918,
   "metadata": {
    "collapsed": false
   },
   "outputs": [
    {
     "data": {
      "text/plain": [
       "array([[1, 2],\n",
       "       [3, 4]])"
      ]
     },
     "execution_count": 918,
     "metadata": {},
     "output_type": "execute_result"
    }
   ],
   "source": [
    "A"
   ]
  },
  {
   "cell_type": "code",
   "execution_count": 919,
   "metadata": {
    "collapsed": false
   },
   "outputs": [
    {
     "data": {
      "text/plain": [
       "(2, 2)"
      ]
     },
     "execution_count": 919,
     "metadata": {},
     "output_type": "execute_result"
    }
   ],
   "source": [
    "A.shape # Attribute: shape"
   ]
  },
  {
   "cell_type": "code",
   "execution_count": 926,
   "metadata": {
    "collapsed": false
   },
   "outputs": [
    {
     "data": {
      "text/plain": [
       "4"
      ]
     },
     "execution_count": 926,
     "metadata": {},
     "output_type": "execute_result"
    }
   ],
   "source": [
    "A.size # Attribute: number of elements"
   ]
  },
  {
   "cell_type": "code",
   "execution_count": 921,
   "metadata": {
    "collapsed": false
   },
   "outputs": [
    {
     "data": {
      "text/plain": [
       "array([[1, 3],\n",
       "       [2, 4]])"
      ]
     },
     "execution_count": 921,
     "metadata": {},
     "output_type": "execute_result"
    }
   ],
   "source": [
    "A.T # Method: transpose"
   ]
  },
  {
   "cell_type": "code",
   "execution_count": 922,
   "metadata": {
    "collapsed": false
   },
   "outputs": [
    {
     "data": {
      "text/plain": [
       "2.5"
      ]
     },
     "execution_count": 922,
     "metadata": {},
     "output_type": "execute_result"
    }
   ],
   "source": [
    "A.mean() "
   ]
  },
  {
   "cell_type": "code",
   "execution_count": 927,
   "metadata": {
    "collapsed": false
   },
   "outputs": [
    {
     "data": {
      "text/plain": [
       "array([ 2.,  3.])"
      ]
     },
     "execution_count": 927,
     "metadata": {},
     "output_type": "execute_result"
    }
   ],
   "source": [
    "A.mean(axis = 0) # The Zero-th axis are the column, the 1st axis are the rows"
   ]
  },
  {
   "cell_type": "markdown",
   "metadata": {},
   "source": [
    "Some of the methods are available as numpy functions"
   ]
  },
  {
   "cell_type": "code",
   "execution_count": 934,
   "metadata": {
    "collapsed": false
   },
   "outputs": [
    {
     "data": {
      "text/plain": [
       "array([ 2.,  3.])"
      ]
     },
     "execution_count": 934,
     "metadata": {},
     "output_type": "execute_result"
    }
   ],
   "source": [
    "np.mean(A, axis = 0)   # Alternative."
   ]
  },
  {
   "cell_type": "markdown",
   "metadata": {},
   "source": [
    "### Linear Algebra"
   ]
  },
  {
   "cell_type": "markdown",
   "metadata": {},
   "source": [
    "Dot product (i.e. vector- or matrix-product) is also a method"
   ]
  },
  {
   "cell_type": "code",
   "execution_count": 932,
   "metadata": {
    "collapsed": false
   },
   "outputs": [
    {
     "data": {
      "text/plain": [
       "array([[19, 22],\n",
       "       [43, 50]])"
      ]
     },
     "execution_count": 932,
     "metadata": {},
     "output_type": "execute_result"
    }
   ],
   "source": [
    "A.dot(B)"
   ]
  },
  {
   "cell_type": "markdown",
   "metadata": {},
   "source": [
    "Other functions are part of the <i>linalg</i> submodule"
   ]
  },
  {
   "cell_type": "code",
   "execution_count": 955,
   "metadata": {
    "collapsed": true
   },
   "outputs": [],
   "source": [
    "A = np.array([[2,1],[1,2]])"
   ]
  },
  {
   "cell_type": "code",
   "execution_count": 956,
   "metadata": {
    "collapsed": false
   },
   "outputs": [
    {
     "data": {
      "text/plain": [
       "2.9999999999999996"
      ]
     },
     "execution_count": 956,
     "metadata": {},
     "output_type": "execute_result"
    }
   ],
   "source": [
    "np.linalg.det(A)  # Up to numerical precision..."
   ]
  },
  {
   "cell_type": "code",
   "execution_count": 957,
   "metadata": {
    "collapsed": false
   },
   "outputs": [
    {
     "data": {
      "text/plain": [
       "array([[ 0.66666667, -0.33333333],\n",
       "       [-0.33333333,  0.66666667]])"
      ]
     },
     "execution_count": 957,
     "metadata": {},
     "output_type": "execute_result"
    }
   ],
   "source": [
    "np.linalg.inv(A)"
   ]
  },
  {
   "cell_type": "markdown",
   "metadata": {},
   "source": [
    "### Scientific Computing"
   ]
  },
  {
   "cell_type": "markdown",
   "metadata": {},
   "source": [
    "Function in numpy are written in optimized C code to run very fast, even if applied elementwise on an array."
   ]
  },
  {
   "cell_type": "code",
   "execution_count": 938,
   "metadata": {
    "collapsed": false
   },
   "outputs": [
    {
     "data": {
      "text/plain": [
       "array([[ 0.        ,  0.69314718],\n",
       "       [ 1.09861229,  1.38629436]])"
      ]
     },
     "execution_count": 938,
     "metadata": {},
     "output_type": "execute_result"
    }
   ],
   "source": [
    "np.log(A)   # Natural logarithm"
   ]
  },
  {
   "cell_type": "code",
   "execution_count": 937,
   "metadata": {
    "collapsed": false
   },
   "outputs": [
    {
     "data": {
      "text/plain": [
       "array([[  2.71828183,   7.3890561 ],\n",
       "       [ 20.08553692,  54.59815003]])"
      ]
     },
     "execution_count": 937,
     "metadata": {},
     "output_type": "execute_result"
    }
   ],
   "source": [
    "np.exp(A)   # Exponential"
   ]
  },
  {
   "cell_type": "code",
   "execution_count": 939,
   "metadata": {
    "collapsed": false
   },
   "outputs": [
    {
     "data": {
      "text/plain": [
       "array([[ 2.31243834,  2.49177985],\n",
       "       [ 2.64412076,  2.77647228]])"
      ]
     },
     "execution_count": 939,
     "metadata": {},
     "output_type": "execute_result"
    }
   ],
   "source": [
    "np.arcsinh(B)  # Whatever this one is..."
   ]
  },
  {
   "cell_type": "markdown",
   "metadata": {},
   "source": [
    "Some functions are useful to create arrays on the fly"
   ]
  },
  {
   "cell_type": "code",
   "execution_count": 943,
   "metadata": {
    "collapsed": false
   },
   "outputs": [
    {
     "data": {
      "text/plain": [
       "array([   0.,   25.,   50.,   75.,  100.])"
      ]
     },
     "execution_count": 943,
     "metadata": {},
     "output_type": "execute_result"
    }
   ],
   "source": [
    "np.linspace(start = 0, stop = 100, num = 5)  # Linearly spaced array with 5 items"
   ]
  },
  {
   "cell_type": "markdown",
   "metadata": {},
   "source": [
    "Do <i>not</i> try to memorize all the commands right now! \n",
    "\n",
    "You can just learn by doing the homeworks and developing your own projects. Have fun!"
   ]
  },
  {
   "cell_type": "markdown",
   "metadata": {},
   "source": [
    " "
   ]
  },
  {
   "cell_type": "markdown",
   "metadata": {},
   "source": [
    "<img src = \"matplotlib.png\">"
   ]
  },
  {
   "cell_type": "code",
   "execution_count": 1005,
   "metadata": {
    "collapsed": false
   },
   "outputs": [],
   "source": [
    "x = np.linspace(start = -4, stop = 4, num = 100)\n",
    "y1 = np.sin(x)\n",
    "y2 = np.cos(x)"
   ]
  },
  {
   "cell_type": "markdown",
   "metadata": {},
   "source": [
    "<b>Method 1</b> This is one way of plotting functions in python, but we'll mostly use the next one."
   ]
  },
  {
   "cell_type": "code",
   "execution_count": 1036,
   "metadata": {
    "collapsed": false
   },
   "outputs": [],
   "source": [
    "#plt.plot(x, y1)   # You need the prefix \"plt\" because we used \"import matplotlib.pyplot as **plt**\"\n",
    "#plt.plot(x, y2)"
   ]
  },
  {
   "cell_type": "markdown",
   "metadata": {},
   "source": [
    "<b>Method 2</b> Uncomment the code below one block at a time at your leisure, to see what it does."
   ]
  },
  {
   "cell_type": "code",
   "execution_count": 1007,
   "metadata": {
    "collapsed": false,
    "scrolled": false
   },
   "outputs": [
    {
     "data": {
      "image/png": "[encoded data removed]",
      "text/plain": [
       "<matplotlib.figure.Figure at 0x118887320>"
      ]
     },
     "metadata": {},
     "output_type": "display_data"
    }
   ],
   "source": [
    "fig, ax = plt.subplots(2, 2, figsize = (15, 5))\n",
    "\n",
    "#fig.suptitle(\"A plot with many subplots\", fontsize = 20)\n",
    "\n",
    "#fig.subplots_adjust(top = .8, hspace = .8)\n",
    "\n",
    "p = ax[0,0].plot(x, y1, linestyle = \"-\", linewidth = 1, color = \"black\", label = \"solid\")\n",
    "\n",
    "#p = ax[0,0].set_title(\"Standard\")\n",
    "\n",
    "#p = ax[0,0].legend(loc = \"best\")\n",
    "\n",
    "#p = ax[0,0].set_xlabel(\"Horizontal axis\")\n",
    "#p = ax[0,0].set_ylabel(\"Vertical axis\")\n",
    "\n",
    "#p = ax[0,0].set_yticks([-1,0,1])\n",
    "#p = ax[0,0].set_yticklabels([\"very low\",\"middle bit\", \"pretty high\"])\n",
    "\n",
    "#p = ax[0,0].set_xticks([-4,-np.pi,-2,-1,0,1,2,np.pi,4])\n",
    "#p = ax[0,0].set_xticklabels([-4, \"$-\\pi$\", -2, \"$i^2$\",\"Zero\", 1, 2, \"$\\pi$\", \"$\\sqrt{16}$\"], rotation = 20)\n",
    "\n",
    "#p = ax[0,1].plot(x, y2, linestyle = \"--\", linewidth = 5, color = \"orange\", label = \"dotted\")\n",
    "#p = ax[0,1].set_title(\"Orangey\", color = \"darkorange\")\n",
    "#p = ax[0,1].legend(loc = \"best\")\n",
    "\n",
    "#p = ax[1,0].fill_between(x, y1, y2, color = \"navy\", label = \"dotted\", alpha = .5)\n",
    "#p = ax[1,0].set_title(\"Between the lines\", color = \"navy\")\n",
    "\n",
    "#p = ax[1,1].hist(y1, color = \"purple\", label = \"dotted\", bins = 20, normed = True)\n",
    "#p = ax[1,1].set_title(\"Histogram\", color = \"purple\")\n",
    "\n",
    "#sns.despine() #(Only if you've installed seaborn)"
   ]
  },
  {
   "cell_type": "markdown",
   "metadata": {},
   "source": [
    "The point is: you can change pretty much anything you want in any plot."
   ]
  },
  {
   "cell_type": "markdown",
   "metadata": {},
   "source": [
    "# Simulating data"
   ]
  },
  {
   "cell_type": "markdown",
   "metadata": {},
   "source": [
    "One of the most useful skills you will learn in EC3389 is to simulate data. The numpy submodule <i>random</i> is our next destination."
   ]
  },
  {
   "cell_type": "code",
   "execution_count": 983,
   "metadata": {
    "collapsed": false
   },
   "outputs": [],
   "source": [
    "x = np.random.uniform(low = 0, high = 1, size = (1000,1)) # Draws an array of size (m,n) from Unif[0,1]\n",
    "y = np.random.normal(loc = 0, scale = 2, size = (1000,1)) # Draws an array of size (m,n) from Normal(0,*4*)"
   ]
  },
  {
   "cell_type": "code",
   "execution_count": 1034,
   "metadata": {
    "collapsed": false
   },
   "outputs": [],
   "source": [
    "x[:4]"
   ]
  },
  {
   "cell_type": "code",
   "execution_count": 1035,
   "metadata": {
    "collapsed": false
   },
   "outputs": [],
   "source": [
    "y[:4]"
   ]
  },
  {
   "cell_type": "markdown",
   "metadata": {},
   "source": [
    "<b>Exercise</b> Can you quickly plot two histograms, one containing x, another containing y?"
   ]
  },
  {
   "cell_type": "code",
   "execution_count": 1033,
   "metadata": {
    "collapsed": false
   },
   "outputs": [],
   "source": [
    "fig, ax = plt.subplots(1,2, figsize = (12,5)) # Continue on the next line."
   ]
  },
  {
   "cell_type": "markdown",
   "metadata": {},
   "source": [
    "## Monte Carlo Methods 1: Simulating the Central Limit Theorem"
   ]
  },
  {
   "cell_type": "markdown",
   "metadata": {},
   "source": [
    "<b>Sampling distribution of the mean of a normally distributed variable</b>"
   ]
  },
  {
   "cell_type": "markdown",
   "metadata": {},
   "source": [
    "We will do the following $n\\_iter$ times:\n"
   ]
  },
  {
   "cell_type": "markdown",
   "metadata": {},
   "source": [
    "\n",
    "+ Draw $X_{j} \\sim \\mathcal{N}(0,1)$ for $j$ in $1,2,\\cdots,n\\_obs$\n",
    "+ Compute and store the sample mean $\\overline{X} = \\frac{1}{n} \\sum_{j}X_{j}$\n",
    "\n",
    "Then check out the distribution of the $\\overline{X}$s."
   ]
  },
  {
   "cell_type": "code",
   "execution_count": 991,
   "metadata": {
    "collapsed": true
   },
   "outputs": [],
   "source": [
    "n_iter = 10000 # Some large number of iterations.\n",
    "n_obs = 20 # Number of observations, starting small."
   ]
  },
  {
   "cell_type": "markdown",
   "metadata": {},
   "source": [
    "Drawing step, using an array instead of a for loop."
   ]
  },
  {
   "cell_type": "code",
   "execution_count": 999,
   "metadata": {
    "collapsed": true
   },
   "outputs": [],
   "source": [
    "X = np.random.normal(loc = 0, scale = 1, size = (n_iter, n_obs))"
   ]
  },
  {
   "cell_type": "markdown",
   "metadata": {},
   "source": [
    "Computing the average value of the draws obtained at each iteration"
   ]
  },
  {
   "cell_type": "code",
   "execution_count": 1000,
   "metadata": {
    "collapsed": true
   },
   "outputs": [],
   "source": [
    "Xbar = np.mean(X, axis = 1)"
   ]
  },
  {
   "cell_type": "markdown",
   "metadata": {},
   "source": [
    "\n",
    "Let's plot two normed histograms, one of the $X_{i,j}$, another of the $\\overline{X}_{i}$'s."
   ]
  },
  {
   "cell_type": "code",
   "execution_count": 1009,
   "metadata": {
    "collapsed": false
   },
   "outputs": [],
   "source": [
    "fig, ax = plt.subplots(1,2, figsize = (20, 5))\n",
    "\n",
    "p = ax[0].hist(X.flatten(), normed = True, bins= 100)\n",
    "p = ax[0].set_title(\"Distribution of $X$\", fontsize = 20)\n",
    "\n",
    "p = ax[1].hist(Xbar.flatten(), normed = True, bins = 100)\n",
    "p = ax[1].set_title(\"Distribution of the sample mean of $X$\", fontsize = 20)"
   ]
  },
  {
   "cell_type": "markdown",
   "metadata": {},
   "source": [
    "<b>Numerically-computed statistics</b> If we have a large random sample drawn from some distribution, we can approximate the true moments of the distribution by their sample counterparts."
   ]
  },
  {
   "cell_type": "markdown",
   "metadata": {},
   "source": [
    "$E[X] \\approx \\overline{X}$"
   ]
  },
  {
   "cell_type": "code",
   "execution_count": 1037,
   "metadata": {
    "collapsed": false
   },
   "outputs": [],
   "source": [
    "print(np.mean(Xbar))"
   ]
  },
  {
   "cell_type": "markdown",
   "metadata": {},
   "source": [
    "$Var[X] \\approx \\overline{X^2} - \\overline{X}^2$"
   ]
  },
  {
   "cell_type": "code",
   "execution_count": 1038,
   "metadata": {
    "collapsed": false
   },
   "outputs": [],
   "source": [
    "print(np.var(Xbar))"
   ]
  },
  {
   "cell_type": "markdown",
   "metadata": {},
   "source": [
    "<b>Questions</b> All of these can be answered numerically!"
   ]
  },
  {
   "cell_type": "markdown",
   "metadata": {},
   "source": [
    "+ What does that say about the <i><b>sampling distribution</b> of the mean</i>, when the underlying random variable is normal?\n",
    "\n",
    "+ What if $X_{i}$ were normally distributed with <b>different parameters</b>?\n",
    "\n",
    "+ What happens as the <b>number of observations grows</b>?"
   ]
  },
  {
   "cell_type": "markdown",
   "metadata": {},
   "source": [
    "### The fun begins: escaping normality"
   ]
  },
  {
   "cell_type": "markdown",
   "metadata": {},
   "source": [
    "What if $X$ is <i>not</i> normally distributed? Change the distribution below to whatever distribution you like!"
   ]
  },
  {
   "cell_type": "code",
   "execution_count": 1013,
   "metadata": {
    "collapsed": true
   },
   "outputs": [],
   "source": [
    "n_obs = 2  # Start very small\n",
    "n_iter = 50000 "
   ]
  },
  {
   "cell_type": "code",
   "execution_count": 1014,
   "metadata": {
    "collapsed": false
   },
   "outputs": [],
   "source": [
    "X = np.random.uniform(0, 1, size = (n_iter, n_obs)) # <---- CHANGE THIS DISTRIBUTION\n",
    "Xbar = np.mean(X, axis = 1)"
   ]
  },
  {
   "cell_type": "code",
   "execution_count": null,
   "metadata": {
    "collapsed": false
   },
   "outputs": [],
   "source": [
    "fig, ax = plt.subplots(1,2, figsize = (20, 5))\n",
    "\n",
    "p = ax[0].hist(X.flatten(), normed = True, bins= 100)\n",
    "p = ax[0].set_title(\"Distribution of $X$\", fontsize = 20)\n",
    "\n",
    "p = ax[1].hist(Xbar.flatten(), normed = True, bins = 100)\n",
    "p = ax[1].set_title(\"Distribution of the sample mean of $X$\", fontsize = 20)"
   ]
  },
  {
   "cell_type": "markdown",
   "metadata": {},
   "source": [
    "Again, we can aproximate the statistics numerically"
   ]
  },
  {
   "cell_type": "code",
   "execution_count": 1032,
   "metadata": {
    "collapsed": false
   },
   "outputs": [],
   "source": [
    "print(np.mean(Xbar)) # Mean over the sample means"
   ]
  },
  {
   "cell_type": "code",
   "execution_count": 1031,
   "metadata": {
    "collapsed": false
   },
   "outputs": [],
   "source": [
    "print(np.var(Xbar)) # Variance of sample means"
   ]
  },
  {
   "cell_type": "markdown",
   "metadata": {},
   "source": [
    "## Monte Carlo Methods 2: Simulating the Law of Large Numbers"
   ]
  },
  {
   "cell_type": "markdown",
   "metadata": {},
   "source": [
    "The Law of Large number says that as $n$ grows, the sample average approaches the true mean."
   ]
  },
  {
   "cell_type": "markdown",
   "metadata": {},
   "source": [
    "Can we visualize that convergence? Let's do the following."
   ]
  },
  {
   "cell_type": "markdown",
   "metadata": {},
   "source": [
    "+ Draw $n\\_obs$ observations.\n",
    "\n",
    "+ For each $m$ in $1,\\cdots,n\\_obs$, compute $\\overline{X}_{m} = \\sum_{j=0}^{m+1}X_{j} $"
   ]
  },
  {
   "cell_type": "code",
   "execution_count": 1018,
   "metadata": {
    "collapsed": true
   },
   "outputs": [],
   "source": [
    "n_obs = 1000\n",
    "X = np.random.normal(0, 1, size = (n_obs,))"
   ]
  },
  {
   "cell_type": "code",
   "execution_count": 1019,
   "metadata": {
    "collapsed": false
   },
   "outputs": [],
   "source": [
    "Xbarm = np.zeros((n_obs,)) # Initialize the output\n",
    "for i in range(n_obs):\n",
    "    Xbarm[i] = np.mean(X[:i+1])"
   ]
  },
  {
   "cell_type": "code",
   "execution_count": null,
   "metadata": {
    "collapsed": false
   },
   "outputs": [],
   "source": [
    "fig, ax = plt.subplots(1, figsize = (10,5))\n",
    "ax.plot(range(n_obs), Xbarm, linewidth = 2)\n",
    "ax.hlines(y = 0, xmin = 0, xmax = n_obs, linestyles = \"--\")\n",
    "ax.set_title(\"Sample mean up to $m$\", fontsize = 20)\n",
    "ax.set_xlabel(\"$m$\", fontsize = 20)\n",
    "sns.despine()"
   ]
  },
  {
   "cell_type": "markdown",
   "metadata": {},
   "source": [
    "Again, go back and play around with the parameters of the distribution, or with the distribution itself. \n",
    "\n",
    "How does the graph change? \n",
    "\n",
    "Does this happen for any distribution?"
   ]
  },
  {
   "cell_type": "markdown",
   "metadata": {},
   "source": [
    "<b>Connection with CLT</b> This is just FYI. Can you see how this ties into the section above?"
   ]
  },
  {
   "cell_type": "code",
   "execution_count": null,
   "metadata": {
    "collapsed": false
   },
   "outputs": [],
   "source": [
    "fig, ax = plt.subplots(1, figsize = (10,5))\n",
    "\n",
    "n_obs = 50\n",
    "n_iter = 1000\n",
    "\n",
    "X = np.random.normal(0, 1, size = (n_obs, n_iter))\n",
    "Xbarn = np.zeros((n_obs,))\n",
    "for m in range(n_iter):\n",
    "    for i in range(n_obs):\n",
    "        Xbarn[i] = np.mean(X[:i+1, m])\n",
    "    \n",
    "    ax.plot(range(n_obs), Xbarn, linewidth = 1, alpha = .05, color = \"darkorange\")\n",
    "    \n",
    "ax.hlines(y = 0, xmin = 0, xmax = n_obs, linestyles = \"--\")\n",
    "ax.set_title(\"Sample mean up to $m$ (many iterations)\", fontsize = 20)\n",
    "ax.set_xlabel(\"$m$\", fontsize = 20)\n",
    "sns.despine()"
   ]
  },
  {
   "cell_type": "markdown",
   "metadata": {},
   "source": [
    "\n",
    "## Simulating the distribution of the OLS"
   ]
  },
  {
   "cell_type": "markdown",
   "metadata": {
    "collapsed": true
   },
   "source": [
    "Coming soon, to a homework near you."
   ]
  }
 ],
 "metadata": {
  "kernelspec": {
   "display_name": "Python 3",
   "language": "python",
   "name": "python3"
  },
  "language_info": {
   "codemirror_mode": {
    "name": "ipython",
    "version": 3
   },
   "file_extension": ".py",
   "mimetype": "text/x-python",
   "name": "python",
   "nbconvert_exporter": "python",
   "pygments_lexer": "ipython3",
   "version": "3.5.1"
  }
 },
 "nbformat": 4,
 "nbformat_minor": 0
}
