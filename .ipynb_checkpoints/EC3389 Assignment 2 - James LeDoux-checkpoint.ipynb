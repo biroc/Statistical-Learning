{
 "cells": [
  {
   "cell_type": "markdown",
   "metadata": {
    "collapsed": true
   },
   "source": [
    "# <center> EC3389 - Assignment 2 - James LeDoux </center>"
   ]
  },
  {
   "cell_type": "code",
   "execution_count": 9,
   "metadata": {
    "collapsed": true
   },
   "outputs": [],
   "source": [
    "import numpy as np\n",
    "import pandas as pd\n",
    "from scipy import optimize\n",
    "import matplotlib.pyplot as plt"
   ]
  },
  {
   "cell_type": "code",
   "execution_count": 10,
   "metadata": {
    "collapsed": true
   },
   "outputs": [],
   "source": [
    "def create_data(n_obs):\n",
    "    x_1 = np.random.uniform(0, 10, n_obs)\n",
    "    x_2 = np.random.uniform(-5, 5, n_obs)\n",
    "    e = np.random.normal(0, 1, n_obs)\n",
    "    y = 2 + 3*x_1 + 5*x_2 + e\n",
    "    dat ={'x1': x_1, 'x2': x_2, 'y': y}\n",
    "    df = pd.DataFrame(dat)\n",
    "    return df\n",
    "    "
   ]
  },
  {
   "cell_type": "code",
   "execution_count": 11,
   "metadata": {
    "collapsed": false
   },
   "outputs": [
    {
     "data": {
      "text/html": [
       "<div>\n",
       "<table border=\"1\" class=\"dataframe\">\n",
       "  <thead>\n",
       "    <tr style=\"text-align: right;\">\n",
       "      <th></th>\n",
       "      <th>x1</th>\n",
       "      <th>x2</th>\n",
       "      <th>y</th>\n",
       "    </tr>\n",
       "  </thead>\n",
       "  <tbody>\n",
       "    <tr>\n",
       "      <th>0</th>\n",
       "      <td>8.388533</td>\n",
       "      <td>-3.028504</td>\n",
       "      <td>12.400092</td>\n",
       "    </tr>\n",
       "    <tr>\n",
       "      <th>1</th>\n",
       "      <td>8.057094</td>\n",
       "      <td>4.792329</td>\n",
       "      <td>50.797514</td>\n",
       "    </tr>\n",
       "    <tr>\n",
       "      <th>2</th>\n",
       "      <td>1.456207</td>\n",
       "      <td>-1.136847</td>\n",
       "      <td>0.161130</td>\n",
       "    </tr>\n",
       "    <tr>\n",
       "      <th>3</th>\n",
       "      <td>8.652936</td>\n",
       "      <td>-1.781672</td>\n",
       "      <td>19.494879</td>\n",
       "    </tr>\n",
       "    <tr>\n",
       "      <th>4</th>\n",
       "      <td>4.480348</td>\n",
       "      <td>-3.085805</td>\n",
       "      <td>0.294334</td>\n",
       "    </tr>\n",
       "  </tbody>\n",
       "</table>\n",
       "</div>"
      ],
      "text/plain": [
       "         x1        x2          y\n",
       "0  8.388533 -3.028504  12.400092\n",
       "1  8.057094  4.792329  50.797514\n",
       "2  1.456207 -1.136847   0.161130\n",
       "3  8.652936 -1.781672  19.494879\n",
       "4  4.480348 -3.085805   0.294334"
      ]
     },
     "execution_count": 11,
     "metadata": {},
     "output_type": "execute_result"
    }
   ],
   "source": [
    "df = create_data(100)\n",
    "df.head()"
   ]
  },
  {
   "cell_type": "code",
   "execution_count": 12,
   "metadata": {
    "collapsed": false
   },
   "outputs": [],
   "source": [
    "# beta = [b0, b1, b2]\n",
    "def get_sum_squared_residuals(beta, df):\n",
    "    sqResid = (df['y'] - (beta[0] + (beta[1]*df['x1']) + (beta[2]*df['x2'])))**2\n",
    "    sumSquared = np.sum(sqResid)\n",
    "    return sumSquared\n",
    "    \n",
    "#get_sum_squared_residuals([ 1.77057033,  3.02077384,  5.04497825],df)"
   ]
  },
  {
   "cell_type": "code",
   "execution_count": 13,
   "metadata": {
    "collapsed": false
   },
   "outputs": [],
   "source": [
    "def estimate_beta(df):\n",
    "    return optimize.minimize(get_sum_squared_residuals, [2.0,3.0,5.0], args=(df)).x"
   ]
  },
  {
   "cell_type": "code",
   "execution_count": 14,
   "metadata": {
    "collapsed": false
   },
   "outputs": [
    {
     "data": {
      "text/plain": [
       "array([ 1.52523411,  3.09234872,  4.98264598])"
      ]
     },
     "execution_count": 14,
     "metadata": {},
     "output_type": "execute_result"
    }
   ],
   "source": [
    "estimate_beta(df)"
   ]
  },
  {
   "cell_type": "code",
   "execution_count": 15,
   "metadata": {
    "collapsed": false
   },
   "outputs": [],
   "source": [
    "def monte_carlo(n_sims, n_obs):\n",
    "    #init betahats\n",
    "    betahats = np.zeros((n_sims, 3))\n",
    "    for i in range(n_sims):\n",
    "        data = create_data(n_obs)\n",
    "        beta = estimate_beta(data)\n",
    "        for j in range(3):\n",
    "            betahats[i, j] = beta[j]\n",
    "    return(betahats)        \n",
    "    "
   ]
  },
  {
   "cell_type": "code",
   "execution_count": 16,
   "metadata": {
    "collapsed": false
   },
   "outputs": [
    {
     "name": "stdout",
     "output_type": "stream",
     "text": [
      "[[ 1.92462297  2.99654137  4.95824181]\n",
      " [ 2.32100758  2.9756526   5.04189179]\n",
      " [ 1.85285867  3.00966247  5.06071707]\n",
      " ..., \n",
      " [ 2.24861043  2.93256929  5.0374192 ]\n",
      " [ 1.63973392  3.07886823  5.0040677 ]\n",
      " [ 1.85464791  3.066565    5.00534551]]\n"
     ]
    },
    {
     "data": {
      "text/plain": [
       "(500, 3)"
      ]
     },
     "execution_count": 16,
     "metadata": {},
     "output_type": "execute_result"
    }
   ],
   "source": [
    "betahats = monte_carlo(500, 50)\n",
    "#np.zeros((10, 10))\n",
    "print(betahats)\n",
    "betahats.shape"
   ]
  },
  {
   "cell_type": "markdown",
   "metadata": {
    "collapsed": false
   },
   "source": [
    "def print_simulation(betahats):\n",
    "    plt.hist(betahats)\n"
   ]
  },
  {
   "cell_type": "code",
   "execution_count": null,
   "metadata": {
    "collapsed": false
   },
   "outputs": [],
   "source": [
    "fig, ax = plt.subplots(1,3, figsize = (12,5))\n",
    "fig.suptitle(\"Distributions of Estimators within Yhat\", fontsize = 20)\n",
    "ax[0].hist(betahats[:,0], bins=80, normed = 1, color=\"red\")\n",
    "ax[0].set_title(\"Distribution of the sample Intercept\", fontsize = 14)\n",
    "ax[1].hist(betahats[:,1], bins = 80, normed=1, color=\"blue\")\n",
    "ax[1].set_title(\"Distribution of the sample B1\", fontsize = 14)\n",
    "ax[2].hist(betahats[:,2], bins = 80, normed=1, color=\"yellow\")\n",
    "ax[2].set_title(\"Distribution of the sample B3\", fontsize = 14)\n",
    "plt.show()"
   ]
  },
  {
   "cell_type": "code",
   "execution_count": null,
   "metadata": {
    "collapsed": true
   },
   "outputs": [],
   "source": []
  }
 ],
 "metadata": {
  "kernelspec": {
   "display_name": "Python 2",
   "language": "python",
   "name": "python2"
  },
  "language_info": {
   "codemirror_mode": {
    "name": "ipython",
    "version": 2
   },
   "file_extension": ".py",
   "mimetype": "text/x-python",
   "name": "python",
   "nbconvert_exporter": "python",
   "pygments_lexer": "ipython2",
   "version": "2.7.11"
  }
 },
 "nbformat": 4,
 "nbformat_minor": 0
}
