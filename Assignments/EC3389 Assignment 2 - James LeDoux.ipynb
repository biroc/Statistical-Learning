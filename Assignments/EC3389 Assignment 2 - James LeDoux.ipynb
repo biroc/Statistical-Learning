{
 "cells": [
  {
   "cell_type": "markdown",
   "metadata": {
    "collapsed": true
   },
   "source": [
    "# <center> EC3389 - Assignment 2 - James LeDoux </center>"
   ]
  },
  {
   "cell_type": "code",
   "execution_count": 1,
   "metadata": {
    "collapsed": true
   },
   "outputs": [],
   "source": [
    "import numpy as np\n",
    "import pandas as pd\n",
    "from scipy import optimize\n",
    "import matplotlib.pyplot as plt"
   ]
  },
  {
   "cell_type": "code",
   "execution_count": 2,
   "metadata": {
    "collapsed": true
   },
   "outputs": [],
   "source": [
    "def create_data(n_obs):\n",
    "    x_1 = np.random.uniform(0, 10, n_obs)\n",
    "    x_2 = np.random.uniform(-5, 5, n_obs)\n",
    "    e = np.random.normal(0, 1, n_obs)\n",
    "    y = 2 + 3*x_1 + 5*x_2 + e\n",
    "    dat ={'x1': x_1, 'x2': x_2, 'y': y}\n",
    "    df = pd.DataFrame(dat)\n",
    "    return df\n",
    "    "
   ]
  },
  {
   "cell_type": "code",
   "execution_count": 3,
   "metadata": {
    "collapsed": false
   },
   "outputs": [
    {
     "data": {
      "text/html": [
       "<div>\n",
       "<table border=\"1\" class=\"dataframe\">\n",
       "  <thead>\n",
       "    <tr style=\"text-align: right;\">\n",
       "      <th></th>\n",
       "      <th>x1</th>\n",
       "      <th>x2</th>\n",
       "      <th>y</th>\n",
       "    </tr>\n",
       "  </thead>\n",
       "  <tbody>\n",
       "    <tr>\n",
       "      <th>0</th>\n",
       "      <td>3.106386</td>\n",
       "      <td>2.500618</td>\n",
       "      <td>21.753349</td>\n",
       "    </tr>\n",
       "    <tr>\n",
       "      <th>1</th>\n",
       "      <td>4.139418</td>\n",
       "      <td>2.203298</td>\n",
       "      <td>25.684291</td>\n",
       "    </tr>\n",
       "    <tr>\n",
       "      <th>2</th>\n",
       "      <td>7.164024</td>\n",
       "      <td>3.054486</td>\n",
       "      <td>37.807363</td>\n",
       "    </tr>\n",
       "    <tr>\n",
       "      <th>3</th>\n",
       "      <td>0.507794</td>\n",
       "      <td>0.653475</td>\n",
       "      <td>6.784260</td>\n",
       "    </tr>\n",
       "    <tr>\n",
       "      <th>4</th>\n",
       "      <td>3.060436</td>\n",
       "      <td>-4.861550</td>\n",
       "      <td>-13.699210</td>\n",
       "    </tr>\n",
       "  </tbody>\n",
       "</table>\n",
       "</div>"
      ],
      "text/plain": [
       "         x1        x2          y\n",
       "0  3.106386  2.500618  21.753349\n",
       "1  4.139418  2.203298  25.684291\n",
       "2  7.164024  3.054486  37.807363\n",
       "3  0.507794  0.653475   6.784260\n",
       "4  3.060436 -4.861550 -13.699210"
      ]
     },
     "execution_count": 3,
     "metadata": {},
     "output_type": "execute_result"
    }
   ],
   "source": [
    "df = create_data(100)\n",
    "df.head()"
   ]
  },
  {
   "cell_type": "code",
   "execution_count": 4,
   "metadata": {
    "collapsed": false
   },
   "outputs": [],
   "source": [
    "# beta = [b0, b1, b2]\n",
    "def get_sum_squared_residuals(beta, df):\n",
    "    sqResid = (df['y'] - (beta[0] + (beta[1]*df['x1']) + (beta[2]*df['x2'])))**2\n",
    "    sumSquared = np.sum(sqResid)\n",
    "    return sumSquared\n",
    "    \n",
    "#get_sum_squared_residuals([ 1.77057033,  3.02077384,  5.04497825],df)"
   ]
  },
  {
   "cell_type": "code",
   "execution_count": 5,
   "metadata": {
    "collapsed": false
   },
   "outputs": [],
   "source": [
    "def estimate_beta(df):\n",
    "    return optimize.minimize(get_sum_squared_residuals, [2.0,3.0,5.0], args=(df)).x"
   ]
  },
  {
   "cell_type": "code",
   "execution_count": 6,
   "metadata": {
    "collapsed": false
   },
   "outputs": [
    {
     "data": {
      "text/plain": [
       "array([ 2.12994773,  2.95887993,  5.0422676 ])"
      ]
     },
     "execution_count": 6,
     "metadata": {},
     "output_type": "execute_result"
    }
   ],
   "source": [
    "estimate_beta(df)"
   ]
  },
  {
   "cell_type": "code",
   "execution_count": 7,
   "metadata": {
    "collapsed": false
   },
   "outputs": [],
   "source": [
    "def monte_carlo(n_sims, n_obs):\n",
    "    #init betahats\n",
    "    betahats = np.zeros((n_sims, 3))\n",
    "    for i in range(n_sims):\n",
    "        data = create_data(n_obs)\n",
    "        beta = estimate_beta(data)\n",
    "        for j in range(3):\n",
    "            betahats[i, j] = beta[j]\n",
    "    return(betahats)        \n",
    "    "
   ]
  },
  {
   "cell_type": "code",
   "execution_count": null,
   "metadata": {
    "collapsed": false
   },
   "outputs": [
    {
     "name": "stdout",
     "output_type": "stream",
     "text": [
      "[[ 1.89684825  3.05430344  4.98871271]\n",
      " [ 1.60378908  3.04491716  4.95102352]\n",
      " [ 1.42261738  3.08811962  5.01851409]\n",
      " ..., \n",
      " [ 2.49787221  2.91857088  4.98547575]\n",
      " [ 2.07824668  3.0526376   4.91360833]\n",
      " [ 2.19051217  2.99594994  4.96022965]]\n"
     ]
    },
    {
     "data": {
      "text/plain": [
       "(500, 3)"
      ]
     },
     "execution_count": 8,
     "metadata": {},
     "output_type": "execute_result"
    }
   ],
   "source": [
    "betahats = monte_carlo(500, 50)\n",
    "#np.zeros((10, 10))\n",
    "print(betahats)\n",
    "betahats.shape"
   ]
  },
  {
   "cell_type": "markdown",
   "metadata": {
    "collapsed": false
   },
   "source": [
    "def print_simulation(betahats):\n",
    "    plt.hist(betahats)\n"
   ]
  },
  {
   "cell_type": "code",
   "execution_count": null,
   "metadata": {
    "collapsed": false
   },
   "outputs": [],
   "source": [
    "fig, ax = plt.subplots(1,3, figsize = (12,5))\n",
    "fig.suptitle(\"Distributions of Estimators within Yhat\", fontsize = 20)\n",
    "ax[0].hist(betahats[:,0], bins=80, normed = 1, color=\"red\")\n",
    "ax[0].set_title(\"Distribution of the sample Intercept\", fontsize = 14)\n",
    "ax[1].hist(betahats[:,1], bins = 80, normed=1, color=\"blue\")\n",
    "ax[1].set_title(\"Distribution of the sample B1\", fontsize = 14)\n",
    "ax[2].hist(betahats[:,2], bins = 80, normed=1, color=\"yellow\")\n",
    "ax[2].set_title(\"Distribution of the sample B2\", fontsize = 14)\n",
    "plt.show()"
   ]
  },
  {
   "cell_type": "code",
   "execution_count": null,
   "metadata": {
    "collapsed": true
   },
   "outputs": [],
   "source": []
  }
 ],
 "metadata": {
  "kernelspec": {
   "display_name": "Python 2",
   "language": "python",
   "name": "python2"
  },
  "language_info": {
   "codemirror_mode": {
    "name": "ipython",
    "version": 2
   },
   "file_extension": ".py",
   "mimetype": "text/x-python",
   "name": "python",
   "nbconvert_exporter": "python",
   "pygments_lexer": "ipython2",
   "version": "2.7.11"
  }
 },
 "nbformat": 4,
 "nbformat_minor": 0
}
