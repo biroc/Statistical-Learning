{
 "cells": [
  {
   "cell_type": "code",
   "execution_count": null,
   "metadata": {
    "collapsed": true
   },
   "outputs": [],
   "source": [
    "#EC3389 - ASSIGNMENT 4"
   ]
  },
  {
   "cell_type": "code",
   "execution_count": 1,
   "metadata": {
    "collapsed": true
   },
   "outputs": [],
   "source": [
    "import numpy as np\n",
    "import itertools\n",
    "import matplotlib.pyplot as plt"
   ]
  },
  {
   "cell_type": "code",
   "execution_count": 2,
   "metadata": {
    "collapsed": true
   },
   "outputs": [],
   "source": [
    "def generate_data(n_obs):\n",
    "    X = np.random.uniform(-5, 5, n_obs)\n",
    "    Z = np.vander(X,4)\n",
    "    X = np.matrix(X).T\n",
    "    e = np.random.normal(0,2, n_obs)\n",
    "    e = np.matrix(e).T\n",
    "    B = np.matrix([[3],[4],[1],[2]])\n",
    "    Y = Z.dot(B) + e\n",
    "    return (X,Y,Z)"
   ]
  },
  {
   "cell_type": "code",
   "execution_count": 3,
   "metadata": {
    "collapsed": false
   },
   "outputs": [
    {
     "data": {
      "text/plain": [
       "(10, 1)"
      ]
     },
     "execution_count": 3,
     "metadata": {},
     "output_type": "execute_result"
    }
   ],
   "source": [
    "X,Y,Z = generate_data(10)\n",
    "val = np.dot(Z, Z.T)\n",
    "I = np.identity(10)\n",
    "I = I * .5\n",
    "val = val + I \n",
    "val.shape\n",
    "Y.shape"
   ]
  },
  {
   "cell_type": "code",
   "execution_count": 4,
   "metadata": {
    "collapsed": true
   },
   "outputs": [],
   "source": [
    "def ridge_coefficients(Z, p, Y):\n",
    "    I = np.identity(len(Z[0]))   \n",
    "    A = np.linalg.inv(np.dot(Z.T, Z) + p*I) \n",
    "    B = np.dot(Z.T, Y) \n",
    "    return np.dot(A,B)"
   ]
  },
  {
   "cell_type": "code",
   "execution_count": 5,
   "metadata": {
    "collapsed": false
   },
   "outputs": [
    {
     "data": {
      "text/plain": [
       "matrix([[ 3.00022388],\n",
       "        [ 4.02079093],\n",
       "        [ 0.71134914],\n",
       "        [ 3.17850055]])"
      ]
     },
     "execution_count": 5,
     "metadata": {},
     "output_type": "execute_result"
    }
   ],
   "source": [
    "X,Y,Z = generate_data(10)\n",
    "ridge_coefficients(Z, 1, Y)\n"
   ]
  },
  {
   "cell_type": "code",
   "execution_count": 7,
   "metadata": {
    "collapsed": true
   },
   "outputs": [],
   "source": [
    "def monte_carlo_ridge(n_obs, n_iter, p):\n",
    "    #X,Y,X = generate_data\n",
    "    betahat_matrix = np.zeros((n_iter, 4))\n",
    "    for i in range(n_iter):\n",
    "        X,Y,Z = generate_data(n_obs)\n",
    "        betahats = ridge_coefficients(Z,p,Y)\n",
    "        betahat_matrix[i] = betahats[0]\n",
    "    return betahat_matrix"
   ]
  },
  {
   "cell_type": "code",
   "execution_count": 8,
   "metadata": {
    "collapsed": false
   },
   "outputs": [
    {
     "ename": "IndexError",
     "evalue": "index 4 is out of bounds for axis 1 with size 4",
     "output_type": "error",
     "traceback": [
      "\u001b[0;31m---------------------------------------------------------------------------\u001b[0m",
      "\u001b[0;31mIndexError\u001b[0m                                Traceback (most recent call last)",
      "\u001b[0;32m<ipython-input-8-7f8db66edc16>\u001b[0m in \u001b[0;36m<module>\u001b[0;34m()\u001b[0m\n\u001b[1;32m      9\u001b[0m \u001b[0;32mfor\u001b[0m \u001b[0mp\u001b[0m\u001b[0;34m,\u001b[0m \u001b[0mnobs\u001b[0m \u001b[0;32min\u001b[0m \u001b[0mitertools\u001b[0m\u001b[0;34m.\u001b[0m\u001b[0mproduct\u001b[0m\u001b[0;34m(\u001b[0m\u001b[0mpvals\u001b[0m\u001b[0;34m,\u001b[0m \u001b[0mnvals\u001b[0m\u001b[0;34m)\u001b[0m\u001b[0;34m:\u001b[0m\u001b[0;34m\u001b[0m\u001b[0m\n\u001b[1;32m     10\u001b[0m     \u001b[0mbetahats\u001b[0m \u001b[0;34m=\u001b[0m \u001b[0mmonte_carlo_ridge\u001b[0m\u001b[0;34m(\u001b[0m\u001b[0mnobs\u001b[0m\u001b[0;34m,\u001b[0m \u001b[0;36m5000\u001b[0m\u001b[0;34m,\u001b[0m \u001b[0mp\u001b[0m\u001b[0;34m)\u001b[0m\u001b[0;34m\u001b[0m\u001b[0m\n\u001b[0;32m---> 11\u001b[0;31m     \u001b[0max\u001b[0m\u001b[0;34m[\u001b[0m\u001b[0;36m0\u001b[0m\u001b[0;34m]\u001b[0m\u001b[0;34m.\u001b[0m\u001b[0mhist\u001b[0m\u001b[0;34m(\u001b[0m\u001b[0mbetahats\u001b[0m\u001b[0;34m[\u001b[0m\u001b[0;34m:\u001b[0m\u001b[0;34m,\u001b[0m\u001b[0mi\u001b[0m\u001b[0;34m]\u001b[0m\u001b[0;34m,\u001b[0m \u001b[0mbins\u001b[0m\u001b[0;34m=\u001b[0m\u001b[0;36m80\u001b[0m\u001b[0;34m,\u001b[0m \u001b[0mnormed\u001b[0m \u001b[0;34m=\u001b[0m \u001b[0;36m1\u001b[0m\u001b[0;34m,\u001b[0m \u001b[0mcolor\u001b[0m\u001b[0;34m=\u001b[0m\u001b[0;34m\"red\"\u001b[0m\u001b[0;34m)\u001b[0m\u001b[0;34m\u001b[0m\u001b[0m\n\u001b[0m\u001b[1;32m     12\u001b[0m     \u001b[0mi\u001b[0m \u001b[0;34m=\u001b[0m \u001b[0mi\u001b[0m\u001b[0;34m+\u001b[0m\u001b[0;36m1\u001b[0m\u001b[0;34m\u001b[0m\u001b[0m\n",
      "\u001b[0;31mIndexError\u001b[0m: index 4 is out of bounds for axis 1 with size 4"
     ]
    }
   ],
   "source": [
    "#plot all poss combinations of p(0,1,10,1000) and n obs(10, 10000) w/ 5000 simulations \n",
    "\n",
    "\"\"\"\n",
    "this isn't working as planned... do this instead:\n",
    "for i in range len ps\n",
    "    for j in range len nvals\n",
    "    \n",
    "        ax[i,j]\n",
    "\"\"\"\n",
    "\n",
    "\n",
    "fig, ax = plt.subplots(2,4, figsize = (8,5))\n",
    "pvals = [0,1,10,1000]\n",
    "nvals = [10, 10000]\n",
    "i = 0\n",
    "\n",
    "#betahats = monte_carlo_ridge(10, 5000, 10)\n",
    "#ax[0].hist(betahats[:,i], bins=80, normed = 1, color=\"red\")\n",
    "for p, nobs in itertools.product(pvals, nvals):\n",
    "    betahats = monte_carlo_ridge(nobs, 5000, p)\n",
    "    ax[0].hist(betahats[:,i], bins=80, normed = 1, color=\"red\")\n",
    "    i = i+1"
   ]
  },
  {
   "cell_type": "code",
   "execution_count": null,
   "metadata": {
    "collapsed": true
   },
   "outputs": [],
   "source": [
    "plt.show()"
   ]
  },
  {
   "cell_type": "code",
   "execution_count": 9,
   "metadata": {
    "collapsed": true
   },
   "outputs": [],
   "source": [
    "fig, ax = plt.subplots(2,4, figsize = (12,5))"
   ]
  },
  {
   "cell_type": "code",
   "execution_count": null,
   "metadata": {
    "collapsed": true
   },
   "outputs": [],
   "source": []
  }
 ],
 "metadata": {
  "kernelspec": {
   "display_name": "Python 2",
   "language": "python",
   "name": "python2"
  },
  "language_info": {
   "codemirror_mode": {
    "name": "ipython",
    "version": 2
   },
   "file_extension": ".py",
   "mimetype": "text/x-python",
   "name": "python",
   "nbconvert_exporter": "python",
   "pygments_lexer": "ipython2",
   "version": "2.7.11"
  }
 },
 "nbformat": 4,
 "nbformat_minor": 0
}
