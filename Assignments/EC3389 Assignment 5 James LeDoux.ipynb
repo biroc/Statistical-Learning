{
 "cells": [
  {
   "cell_type": "markdown",
   "metadata": {},
   "source": [
    "**Assignment 5 - Programming portion**\n",
    "**EC3389 - James LeDoux**\n",
    "\n",
    "My approach as follows:\n",
    "\n",
    "I began by running LogisticRegressionCV to eliminate features. At its optimal level, this left me with 37 non-zero features. These 37 features are my answer to question one.  I then run 5-fold cross validation on a logistic regression model. My answer to question two (estimating the coefficients) is the set of coefficients given by the best model found during this process. My answer to question three was my cross-validation MSE, also determined during this process. To extend this answer, I also include a confusion matrix at the end of the notebook. "
   ]
  },
  {
   "cell_type": "code",
   "execution_count": 211,
   "metadata": {
    "collapsed": true
   },
   "outputs": [],
   "source": [
    "import pandas as pd\n",
    "import numpy as np\n",
    "import matplotlib.pyplot as plt\n",
    "from sklearn import cross_validation, datasets, linear_model\n",
    "from sklearn.linear_model import LogisticRegression\n",
    "from sklearn.linear_model import LogisticRegressionCV\n",
    "from sklearn.cross_validation import KFold\n",
    "from sklearn.cross_validation import train_test_split\n",
    "from sklearn.metrics import confusion_matrix\n",
    "%matplotlib inline"
   ]
  },
  {
   "cell_type": "code",
   "execution_count": 212,
   "metadata": {
    "collapsed": false
   },
   "outputs": [
    {
     "data": {
      "text/html": [
       "<div>\n",
       "<table border=\"1\" class=\"dataframe\">\n",
       "  <thead>\n",
       "    <tr style=\"text-align: right;\">\n",
       "      <th></th>\n",
       "      <th>X1</th>\n",
       "      <th>X2</th>\n",
       "      <th>X3</th>\n",
       "      <th>X4</th>\n",
       "      <th>X5</th>\n",
       "      <th>X6</th>\n",
       "      <th>X7</th>\n",
       "      <th>X8</th>\n",
       "      <th>X9</th>\n",
       "      <th>X10</th>\n",
       "      <th>...</th>\n",
       "      <th>X2991</th>\n",
       "      <th>X2992</th>\n",
       "      <th>X2993</th>\n",
       "      <th>X2994</th>\n",
       "      <th>X2995</th>\n",
       "      <th>X2996</th>\n",
       "      <th>X2997</th>\n",
       "      <th>X2998</th>\n",
       "      <th>X2999</th>\n",
       "      <th>X3000</th>\n",
       "    </tr>\n",
       "  </thead>\n",
       "  <tbody>\n",
       "    <tr>\n",
       "      <th>0</th>\n",
       "      <td>-4.589817</td>\n",
       "      <td>-2.186313</td>\n",
       "      <td>-0.918072</td>\n",
       "      <td>0.994456</td>\n",
       "      <td>-1.643339</td>\n",
       "      <td>0.562897</td>\n",
       "      <td>0.871649</td>\n",
       "      <td>1.645830</td>\n",
       "      <td>-2.246300</td>\n",
       "      <td>0.293383</td>\n",
       "      <td>...</td>\n",
       "      <td>1.316473</td>\n",
       "      <td>1.390242</td>\n",
       "      <td>-3.113475</td>\n",
       "      <td>-0.856392</td>\n",
       "      <td>4.717735</td>\n",
       "      <td>3.271560</td>\n",
       "      <td>-3.842866</td>\n",
       "      <td>1.951035</td>\n",
       "      <td>-3.268676</td>\n",
       "      <td>-3.486528</td>\n",
       "    </tr>\n",
       "    <tr>\n",
       "      <th>1</th>\n",
       "      <td>-1.932005</td>\n",
       "      <td>3.409547</td>\n",
       "      <td>-4.068428</td>\n",
       "      <td>-0.653186</td>\n",
       "      <td>-2.209341</td>\n",
       "      <td>4.181775</td>\n",
       "      <td>-0.386069</td>\n",
       "      <td>-4.761591</td>\n",
       "      <td>-0.402478</td>\n",
       "      <td>4.100881</td>\n",
       "      <td>...</td>\n",
       "      <td>-2.431568</td>\n",
       "      <td>-4.795004</td>\n",
       "      <td>4.948272</td>\n",
       "      <td>-4.747840</td>\n",
       "      <td>4.994316</td>\n",
       "      <td>-1.031691</td>\n",
       "      <td>2.470805</td>\n",
       "      <td>1.708033</td>\n",
       "      <td>2.322733</td>\n",
       "      <td>4.224387</td>\n",
       "    </tr>\n",
       "    <tr>\n",
       "      <th>2</th>\n",
       "      <td>0.437788</td>\n",
       "      <td>-3.771317</td>\n",
       "      <td>-4.990487</td>\n",
       "      <td>0.477881</td>\n",
       "      <td>-0.137070</td>\n",
       "      <td>-1.591236</td>\n",
       "      <td>-4.346859</td>\n",
       "      <td>-1.721320</td>\n",
       "      <td>4.796643</td>\n",
       "      <td>-2.855409</td>\n",
       "      <td>...</td>\n",
       "      <td>3.462669</td>\n",
       "      <td>4.386071</td>\n",
       "      <td>2.125671</td>\n",
       "      <td>-2.330933</td>\n",
       "      <td>-2.959368</td>\n",
       "      <td>-4.888772</td>\n",
       "      <td>4.643801</td>\n",
       "      <td>-1.187435</td>\n",
       "      <td>-3.244609</td>\n",
       "      <td>-4.497003</td>\n",
       "    </tr>\n",
       "    <tr>\n",
       "      <th>3</th>\n",
       "      <td>-0.949226</td>\n",
       "      <td>-4.555874</td>\n",
       "      <td>-0.704534</td>\n",
       "      <td>3.862392</td>\n",
       "      <td>-0.821387</td>\n",
       "      <td>1.230358</td>\n",
       "      <td>3.851150</td>\n",
       "      <td>-1.610159</td>\n",
       "      <td>-2.463466</td>\n",
       "      <td>-3.492688</td>\n",
       "      <td>...</td>\n",
       "      <td>2.383281</td>\n",
       "      <td>-1.757180</td>\n",
       "      <td>-4.993467</td>\n",
       "      <td>-3.424699</td>\n",
       "      <td>-0.581444</td>\n",
       "      <td>-1.865997</td>\n",
       "      <td>-4.177863</td>\n",
       "      <td>-4.196769</td>\n",
       "      <td>0.781339</td>\n",
       "      <td>-2.883281</td>\n",
       "    </tr>\n",
       "    <tr>\n",
       "      <th>4</th>\n",
       "      <td>3.512552</td>\n",
       "      <td>1.290331</td>\n",
       "      <td>0.383730</td>\n",
       "      <td>-1.057689</td>\n",
       "      <td>1.835562</td>\n",
       "      <td>2.965427</td>\n",
       "      <td>-3.994274</td>\n",
       "      <td>-2.195604</td>\n",
       "      <td>4.841798</td>\n",
       "      <td>0.620592</td>\n",
       "      <td>...</td>\n",
       "      <td>4.740132</td>\n",
       "      <td>-2.491019</td>\n",
       "      <td>-4.629763</td>\n",
       "      <td>4.283172</td>\n",
       "      <td>0.612778</td>\n",
       "      <td>4.668735</td>\n",
       "      <td>1.077373</td>\n",
       "      <td>0.060312</td>\n",
       "      <td>-2.878469</td>\n",
       "      <td>2.312747</td>\n",
       "    </tr>\n",
       "  </tbody>\n",
       "</table>\n",
       "<p>5 rows × 3000 columns</p>\n",
       "</div>"
      ],
      "text/plain": [
       "         X1        X2        X3        X4        X5        X6        X7  \\\n",
       "0 -4.589817 -2.186313 -0.918072  0.994456 -1.643339  0.562897  0.871649   \n",
       "1 -1.932005  3.409547 -4.068428 -0.653186 -2.209341  4.181775 -0.386069   \n",
       "2  0.437788 -3.771317 -4.990487  0.477881 -0.137070 -1.591236 -4.346859   \n",
       "3 -0.949226 -4.555874 -0.704534  3.862392 -0.821387  1.230358  3.851150   \n",
       "4  3.512552  1.290331  0.383730 -1.057689  1.835562  2.965427 -3.994274   \n",
       "\n",
       "         X8        X9       X10    ...        X2991     X2992     X2993  \\\n",
       "0  1.645830 -2.246300  0.293383    ...     1.316473  1.390242 -3.113475   \n",
       "1 -4.761591 -0.402478  4.100881    ...    -2.431568 -4.795004  4.948272   \n",
       "2 -1.721320  4.796643 -2.855409    ...     3.462669  4.386071  2.125671   \n",
       "3 -1.610159 -2.463466 -3.492688    ...     2.383281 -1.757180 -4.993467   \n",
       "4 -2.195604  4.841798  0.620592    ...     4.740132 -2.491019 -4.629763   \n",
       "\n",
       "      X2994     X2995     X2996     X2997     X2998     X2999     X3000  \n",
       "0 -0.856392  4.717735  3.271560 -3.842866  1.951035 -3.268676 -3.486528  \n",
       "1 -4.747840  4.994316 -1.031691  2.470805  1.708033  2.322733  4.224387  \n",
       "2 -2.330933 -2.959368 -4.888772  4.643801 -1.187435 -3.244609 -4.497003  \n",
       "3 -3.424699 -0.581444 -1.865997 -4.177863 -4.196769  0.781339 -2.883281  \n",
       "4  4.283172  0.612778  4.668735  1.077373  0.060312 -2.878469  2.312747  \n",
       "\n",
       "[5 rows x 3000 columns]"
      ]
     },
     "execution_count": 212,
     "metadata": {},
     "output_type": "execute_result"
    }
   ],
   "source": [
    "data = pd.read_csv(\"../data.csv\")\n",
    "y = data['Y']\n",
    "data = data.drop('Y', 1)\n",
    "data = data.drop('Unnamed: 0', 1)\n",
    "data.head()"
   ]
  },
  {
   "cell_type": "code",
   "execution_count": null,
   "metadata": {
    "collapsed": true
   },
   "outputs": [],
   "source": [
    "#PART ONE: USING LOGISTIC-CV TO ELIMINATE FEATURES"
   ]
  },
  {
   "cell_type": "code",
   "execution_count": 213,
   "metadata": {
    "collapsed": false
   },
   "outputs": [],
   "source": [
    "CVmodel = LogisticRegressionCV(cv=10, penalty='l1', solver='liblinear').fit(data,y)"
   ]
  },
  {
   "cell_type": "code",
   "execution_count": 214,
   "metadata": {
    "collapsed": false
   },
   "outputs": [
    {
     "data": {
      "text/plain": [
       "array([[ 0.1225449 , -0.01734448, -0.02950021, ...,  0.        ,\n",
       "         0.        ,  0.        ]])"
      ]
     },
     "execution_count": 214,
     "metadata": {},
     "output_type": "execute_result"
    }
   ],
   "source": [
    "CVmodel.coef_"
   ]
  },
  {
   "cell_type": "code",
   "execution_count": 215,
   "metadata": {
    "collapsed": false,
    "scrolled": true
   },
   "outputs": [
    {
     "name": "stdout",
     "output_type": "stream",
     "text": [
      "original data frame has 3000 features\n",
      "kept 37 features after LassoCV\n"
     ]
    },
    {
     "name": "stderr",
     "output_type": "stream",
     "text": [
      "/Users/jamesledoux/anaconda/envs/python3/lib/python3.5/site-packages/ipykernel/__main__.py:4: FutureWarning: sort(columns=....) is deprecated, use sort_values(by=.....)\n"
     ]
    },
    {
     "data": {
      "text/html": [
       "<div>\n",
       "<table border=\"1\" class=\"dataframe\">\n",
       "  <thead>\n",
       "    <tr style=\"text-align: right;\">\n",
       "      <th></th>\n",
       "      <th>coeffs</th>\n",
       "    </tr>\n",
       "  </thead>\n",
       "  <tbody>\n",
       "    <tr>\n",
       "      <th>27</th>\n",
       "      <td>0.246745</td>\n",
       "    </tr>\n",
       "    <tr>\n",
       "      <th>14</th>\n",
       "      <td>0.241596</td>\n",
       "    </tr>\n",
       "    <tr>\n",
       "      <th>13</th>\n",
       "      <td>0.240603</td>\n",
       "    </tr>\n",
       "    <tr>\n",
       "      <th>34</th>\n",
       "      <td>0.240074</td>\n",
       "    </tr>\n",
       "    <tr>\n",
       "      <th>20</th>\n",
       "      <td>0.233806</td>\n",
       "    </tr>\n",
       "  </tbody>\n",
       "</table>\n",
       "</div>"
      ],
      "text/plain": [
       "      coeffs\n",
       "27  0.246745\n",
       "14  0.241596\n",
       "13  0.240603\n",
       "34  0.240074\n",
       "20  0.233806"
      ]
     },
     "execution_count": 215,
     "metadata": {},
     "output_type": "execute_result"
    }
   ],
   "source": [
    "#convert coefficients to absolute values, only keep those that are > 0\n",
    "coefficientDf = pd.DataFrame()\n",
    "coefficientDf['coeffs'] = np.abs(CVmodel.coef_)[0]\n",
    "coefficientDf = coefficientDf.sort('coeffs', ascending=False)\n",
    "\n",
    "print(\"original data frame has \" + str(len(coefficientDf)) + \" features\")  \n",
    "indexList = coefficientDf[coefficientDf['coeffs'] >0].index.tolist() #indexes of non-zero coefficients\n",
    "print(\"kept \" + str(len(indexList)) + \" features after LassoCV\")\n",
    "coefficientDf.head()"
   ]
  },
  {
   "cell_type": "code",
   "execution_count": 1,
   "metadata": {
    "collapsed": false
   },
   "outputs": [
    {
     "ename": "NameError",
     "evalue": "name 'X' is not defined",
     "output_type": "error",
     "traceback": [
      "\u001b[0;31m---------------------------------------------------------------------------\u001b[0m",
      "\u001b[0;31mNameError\u001b[0m                                 Traceback (most recent call last)",
      "\u001b[0;32m<ipython-input-1-253bcac7dd80>\u001b[0m in \u001b[0;36m<module>\u001b[0;34m()\u001b[0m\n\u001b[0;32m----> 1\u001b[0;31m \u001b[0mX\u001b[0m\u001b[0;34m\u001b[0m\u001b[0m\n\u001b[0m",
      "\u001b[0;31mNameError\u001b[0m: name 'X' is not defined"
     ]
    }
   ],
   "source": []
  },
  {
   "cell_type": "code",
   "execution_count": 216,
   "metadata": {
    "collapsed": false
   },
   "outputs": [],
   "source": [
    "#iterate through index list, dropping vars that are not in it\n",
    "for i in range(1,len(data.columns)+1):\n",
    "    if (i-1) in indexList:\n",
    "        pass\n",
    "    else:\n",
    "        name = \"X\" + str(i)\n",
    "        data = data.drop(name, 1)"
   ]
  },
  {
   "cell_type": "code",
   "execution_count": 218,
   "metadata": {
    "collapsed": false
   },
   "outputs": [
    {
     "name": "stdout",
     "output_type": "stream",
     "text": [
      "MEAN ACCURACY SCORES DURING CROSS VALUDATION: [0.98599999999999999, 0.98899999999999999, 0.98999999999999999, 0.99099999999999999, 0.99099999999999999]\n",
      "coefficient estimates: \n",
      "X1: 1.37932625533\n",
      "X2: -0.40026780933\n",
      "X3: -0.433319381198\n",
      "X4: 2.20288571887\n",
      "X5: -1.3067224754\n",
      "X6: -2.25526521236\n",
      "X7: 1.83083506555\n",
      "X8: 2.23861326079\n",
      "X9: 0.395962552348\n",
      "X10: -0.409368601321\n",
      "X11: -0.853273958878\n",
      "X12: 0.946893250543\n",
      "X13: -0.929025504375\n",
      "X14: 2.31453495143\n",
      "X15: 2.2879621236\n",
      "X16: -1.37674954767\n",
      "X17: 0.449043180597\n",
      "X18: 1.34344390899\n",
      "X19: -2.2521312912\n",
      "X20: -0.436591997619\n",
      "X21: -2.24834427315\n",
      "X22: -0.473251771207\n",
      "X23: 0.856404053153\n",
      "X24: -1.79637712101\n",
      "X25: -0.460628025841\n",
      "X26: 2.212268048\n",
      "X27: 1.75195602193\n",
      "X28: -2.24862938569\n",
      "X29: 0.88846297215\n",
      "X30: -1.42754921101\n",
      "X31: 2.25149700315\n",
      "X32: 1.36625273876\n",
      "X33: 1.32317662679\n",
      "X34: -0.829798923922\n",
      "X35: 2.27032954057\n",
      "X36: -1.39197614717\n",
      "X37: 1.76440939113\n",
      "MSE scores:\n",
      "[0.013, 0.011, 0.011, 0.009, 0.007]\n",
      "Cross-Validated MSE: 0.0102\n"
     ]
    }
   ],
   "source": [
    "\"\"\"\n",
    "Applying cross validation here. Taking the best score and model from the n folds I test. \n",
    "Keeping the best model's coefficients as my most accurate set. These coefficients are my \n",
    "answer to question number two. \n",
    "\n",
    "Also, I realize that taking MSE might be a bit overkill here since model.score() appears to be\n",
    "1-MSE. I could not verify that this was the case in the documentation, however, so better safe\n",
    "than sorry.\n",
    "\"\"\"\n",
    "model = LogisticRegression()\n",
    "\n",
    "mse_scores = []\n",
    "cv = KFold(n=data.shape[0] ,n_folds = 5)\n",
    "max_score = -float(\"inf\")   #score here is a mean accuracy, not mean error, so I maximize\n",
    "bestModel = None\n",
    "true_Y = None\n",
    "pred_Y = None\n",
    "for train, test in cv:\n",
    "    train_x = data.ix[train,:]\n",
    "    train_y = y.ix[train]\n",
    "    test_x = data.ix[test,:]\n",
    "    test_y = y.ix[test]\n",
    "\n",
    "    model.fit(train_x, train_y)\n",
    "    preds = model.predict(test_x)\n",
    "    score = model.score(test_x, test_y)\n",
    "    if score > max_score:\n",
    "        max_score = score\n",
    "        bestModel = model\n",
    "        true_Y = test_y    #keeping these values for the confusion matrix in the following cell\n",
    "        pred_Y = preds\n",
    "    sqError = (preds - test_y)**2\n",
    "    mse = np.mean(sqError)\n",
    "    mse_scores.append(mse)  \n",
    "\n",
    "print(\"MEAN ACCURACY SCORES DURING CROSS VALUDATION: \" + str(val_scores))\n",
    "\n",
    "coeffs = bestModel.coef_   \n",
    "cols = data.columns\n",
    "print(\"coefficient estimates: \")    #ANSWER TO QUESTION TWO \n",
    "for i in range(len(coeffs[0])):\n",
    "    variable = cols[i]\n",
    "    coeff = coeffs[0][i]\n",
    "    print(str(variable) + \": \" + str(coeff))\n",
    "\n",
    "print(\"MSE scores:\")\n",
    "print(mse_scores)\n",
    "CVmse = np.mean(mse_scores)\n",
    "print(\"Cross-Validated MSE: \" + str(CVmse))  #ANSWER TO PART 3 (MEASURE OF ACCURACY)"
   ]
  },
  {
   "cell_type": "code",
   "execution_count": 219,
   "metadata": {
    "collapsed": false
   },
   "outputs": [
    {
     "name": "stdout",
     "output_type": "stream",
     "text": [
      "confusion matrix: \n",
      "[[489   1]\n",
      " [  6 504]]\n"
     ]
    },
    {
     "data": {
      "image/png": "[encoded data removed]",
      "text/plain": [
       "<matplotlib.figure.Figure at 0x11c0c90b8>"
      ]
     },
     "metadata": {},
     "output_type": "display_data"
    }
   ],
   "source": [
    "#ANOTHER WAY TO VIEW ACCURACY: CONFUSION MATRIX\n",
    "def plot_confusion_matrix(cm, title='Confusion matrix', cmap=plt.cm.Blues):\n",
    "    plt.imshow(cm, interpolation='nearest', cmap=cmap)\n",
    "    plt.title(title)\n",
    "    plt.colorbar()\n",
    "    plt.tight_layout()\n",
    "    plt.ylabel('True label')\n",
    "    plt.xlabel('Predicted label')\n",
    "\n",
    "c_mat = confusion_matrix(true_Y, pred_Y)\n",
    "plot_confusion_matrix(c_mat)\n",
    "print(\"confusion matrix: \")\n",
    "print(str(c_mat))"
   ]
  },
  {
   "cell_type": "code",
   "execution_count": null,
   "metadata": {
    "collapsed": true
   },
   "outputs": [],
   "source": []
  }
 ],
 "metadata": {
  "kernelspec": {
   "display_name": "Python 3",
   "language": "python",
   "name": "python3"
  },
  "language_info": {
   "codemirror_mode": {
    "name": "ipython",
    "version": 3
   },
   "file_extension": ".py",
   "mimetype": "text/x-python",
   "name": "python",
   "nbconvert_exporter": "python",
   "pygments_lexer": "ipython3",
   "version": "3.5.1"
  }
 },
 "nbformat": 4,
 "nbformat_minor": 0
}
