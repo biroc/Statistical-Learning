{
 "cells": [
  {
   "cell_type": "code",
   "execution_count": 34,
   "metadata": {
    "collapsed": true
   },
   "outputs": [],
   "source": [
    "#EC3389 - Assignment 3 - James LeDoux"
   ]
  },
  {
   "cell_type": "code",
   "execution_count": 324,
   "metadata": {
    "collapsed": true
   },
   "outputs": [],
   "source": [
    "from sklearn.datasets import load_boston\n",
    "import pandas as pd\n",
    "import numpy as np\n",
    "from sklearn.cross_validation import train_test_split"
   ]
  },
  {
   "cell_type": "code",
   "execution_count": 325,
   "metadata": {
    "collapsed": false
   },
   "outputs": [],
   "source": [
    "boston = load_boston()\n",
    "boston_data = pd.DataFrame(data = np.hstack([boston.target[:,np.newaxis], boston.data]), columns = [\"price\"] + list(boston[\"feature_names\"]))\n",
    "DIS = boston_data.ix[:, \"DIS\"].values[:,np.newaxis]\n",
    "NOX = boston_data.ix[:, \"NOX\"].values[:,np.newaxis]"
   ]
  },
  {
   "cell_type": "code",
   "execution_count": 326,
   "metadata": {
    "collapsed": false
   },
   "outputs": [],
   "source": [
    "def create_polynomial_matrix(X, degree):\n",
    "    #returns matrix with rows 0-r, where each column is x^r element-wise\n",
    "    matlist = []\n",
    "    for i in range(0,degree+1):\n",
    "        matlist.append(X**i)\n",
    "    mat = np.column_stack(matlist)\n",
    "    return np.asmatrix(mat)"
   ]
  },
  {
   "cell_type": "code",
   "execution_count": 327,
   "metadata": {
    "collapsed": false
   },
   "outputs": [],
   "source": [
    "def ols_coefficients(X,Y):\n",
    "    X = np.asarray(X)\n",
    "    Y = np.asarray(Y)\n",
    "    A = np.linalg.inv(np.dot(X.T,X))\n",
    "    B = np.dot(X.T,Y)\n",
    "    return np.dot(A,B)"
   ]
  },
  {
   "cell_type": "code",
   "execution_count": 328,
   "metadata": {
    "collapsed": false
   },
   "outputs": [],
   "source": [
    "def ols_predict(X, betahat):\n",
    "    return np.dot(X,betahat)"
   ]
  },
  {
   "cell_type": "code",
   "execution_count": 329,
   "metadata": {
    "collapsed": false
   },
   "outputs": [],
   "source": [
    "def ols_mse(y, yhat):\n",
    "    y = np.asarray(y)\n",
    "    yhat = np.asarray(yhat)\n",
    "    return ((y-yhat)**2).sum()"
   ]
  },
  {
   "cell_type": "code",
   "execution_count": 330,
   "metadata": {
    "collapsed": false
   },
   "outputs": [],
   "source": [
    "#now apply this to the BOS data"
   ]
  },
  {
   "cell_type": "code",
   "execution_count": 331,
   "metadata": {
    "collapsed": false
   },
   "outputs": [],
   "source": [
    "X = create_polynomial_matrix(DIS, 8)\n",
    "Y = np.asmatrix(NOX)"
   ]
  },
  {
   "cell_type": "code",
   "execution_count": 332,
   "metadata": {
    "collapsed": false
   },
   "outputs": [
    {
     "name": "stdout",
     "output_type": "stream",
     "text": [
      "(354, 9) (152, 9) (354, 1) (152, 1)\n"
     ]
    }
   ],
   "source": [
    "#70/30 train/test split\n",
    "xtrain, xtest, ytrain, ytest = train_test_split(\n",
    "     X, Y, test_size=0.3)\n",
    "\n",
    "print(xtrain.shape, xtest.shape, ytrain.shape, ytest.shape)"
   ]
  },
  {
   "cell_type": "code",
   "execution_count": 333,
   "metadata": {
    "collapsed": false
   },
   "outputs": [
    {
     "data": {
      "text/plain": [
       "array([[ -1.15124707e+00],\n",
       "       [  3.81503845e+00],\n",
       "       [ -3.01978402e+00],\n",
       "       [  1.21196834e+00],\n",
       "       [ -2.81089348e-01],\n",
       "       [  3.92386512e-02],\n",
       "       [ -3.25071330e-03],\n",
       "       [  1.47058653e-04],\n",
       "       [ -2.79447923e-06]])"
      ]
     },
     "execution_count": 333,
     "metadata": {},
     "output_type": "execute_result"
    }
   ],
   "source": [
    "betahat = ols_coefficients(xtrain, ytrain)\n",
    "betahat"
   ]
  },
  {
   "cell_type": "code",
   "execution_count": 334,
   "metadata": {
    "collapsed": false
   },
   "outputs": [],
   "source": [
    "test_vals, train_vals = ols_predict(xtest, betahat), ols_predict(xtrain, betahat)"
   ]
  },
  {
   "cell_type": "code",
   "execution_count": 335,
   "metadata": {
    "collapsed": false
   },
   "outputs": [],
   "source": [
    "test_mse, train_mse = ols_mse(ytrain, train_vals), ols_mse(ytest, test_vals)"
   ]
  },
  {
   "cell_type": "code",
   "execution_count": 336,
   "metadata": {
    "collapsed": false
   },
   "outputs": [
    {
     "data": {
      "text/plain": [
       "1.281592027117207"
      ]
     },
     "execution_count": 336,
     "metadata": {},
     "output_type": "execute_result"
    }
   ],
   "source": [
    "test_mse"
   ]
  },
  {
   "cell_type": "code",
   "execution_count": 337,
   "metadata": {
    "collapsed": false
   },
   "outputs": [
    {
     "data": {
      "text/plain": [
       "0.56146777519748625"
      ]
     },
     "execution_count": 337,
     "metadata": {},
     "output_type": "execute_result"
    }
   ],
   "source": [
    "train_mse"
   ]
  },
  {
   "cell_type": "code",
   "execution_count": null,
   "metadata": {
    "collapsed": true
   },
   "outputs": [],
   "source": []
  }
 ],
 "metadata": {
  "kernelspec": {
   "display_name": "Python 2",
   "language": "python",
   "name": "python2"
  },
  "language_info": {
   "codemirror_mode": {
    "name": "ipython",
    "version": 2
   },
   "file_extension": ".py",
   "mimetype": "text/x-python",
   "name": "python",
   "nbconvert_exporter": "python",
   "pygments_lexer": "ipython2",
   "version": "2.7.11"
  }
 },
 "nbformat": 4,
 "nbformat_minor": 0
}
